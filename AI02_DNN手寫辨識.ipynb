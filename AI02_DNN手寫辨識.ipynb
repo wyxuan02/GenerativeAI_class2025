{
  "cells": [
    {
      "cell_type": "markdown",
      "metadata": {
        "id": "view-in-github",
        "colab_type": "text"
      },
      "source": [
        "<a href=\"https://colab.research.google.com/github/wyxuan02/GenerativeAI_class2025/blob/main/AI02_DNN%E6%89%8B%E5%AF%AB%E8%BE%A8%E8%AD%98.ipynb\" target=\"_parent\"><img src=\"https://colab.research.google.com/assets/colab-badge.svg\" alt=\"Open In Colab\"/></a>"
      ]
    },
    {
      "cell_type": "markdown",
      "metadata": {
        "id": "M9v2swkfmQvT"
      },
      "source": [
        "課程範例：https://github.com/yenlung/AI-Demo/blob/master/%E3%80%90Demo02%E3%80%91%E9%81%B7%E7%A7%BB%E5%BC%8F%E5%AD%B8%E7%BF%92%E5%81%9A%E5%85%AB%E5%93%A5%E8%BE%A8%E8%AD%98%E5%99%A8.ipynb"
      ]
    },
    {
      "cell_type": "markdown",
      "metadata": {
        "id": "K4WUuxcWUIb-"
      },
      "source": [
        "#第二週作業 02/25\n",
        "**# 打造自己的DNN(全連結)手寫辨識**\n",
        "\n",
        "\n",
        "｜實作說明｜\n",
        "\n",
        "1. 讀入套件、資料庫\n",
        "2. 輸入及輸出格式設定\n",
        "3. 建構神經網路 (四層)，並且嘗試不同參數組合 (如截圖所示)\n",
        "4. 使用不同激活函數\n",
        "5. 組裝 DNN\n",
        "6. 訓練神經網路，嘗試不同的 batch_size 和 epoch 數值 (最終設定 batch_size=150, epochs=100)\n",
        "7. 呈現出訓練過程的 accuracy 和 loss (如圖所示)\n",
        "8. 結果測試，準確率達九成\n",
        "9. 用 Gradio 來展示 (結果如截圖所示)"
      ]
    },
    {
      "cell_type": "markdown",
      "metadata": {
        "id": "RkYdA5re0Ave"
      },
      "source": [
        "## 1. 讀入套件"
      ]
    },
    {
      "cell_type": "code",
      "execution_count": null,
      "metadata": {
        "id": "fdIz5z2klW4S"
      },
      "outputs": [],
      "source": [
        "!pip install gradio"
      ]
    },
    {
      "cell_type": "code",
      "execution_count": null,
      "metadata": {
        "id": "pEq2NFpF0Avf"
      },
      "outputs": [],
      "source": [
        "%matplotlib inline\n",
        "\n",
        "# 標準數據分析、畫圖套件\n",
        "import numpy as np\n",
        "import matplotlib.pyplot as plt\n",
        "from PIL import Image\n",
        "\n",
        "# 神經網路方面\n",
        "import tensorflow as tf\n",
        "from tensorflow.keras.datasets import mnist\n",
        "from tensorflow.keras.utils import to_categorical\n",
        "from tensorflow.keras.models import Sequential\n",
        "from tensorflow.keras.layers import Dense\n",
        "from tensorflow.keras.optimizers import SGD\n",
        "\n",
        "# 互動設計用\n",
        "from ipywidgets import interact_manual\n",
        "\n",
        "# 神速打造 web app 的 Gradio\n",
        "import gradio as gr"
      ]
    },
    {
      "cell_type": "markdown",
      "metadata": {
        "id": "cRzNR1A4cJLs"
      },
      "source": [
        "#2. 讀入 MNIST 數據庫\n",
        "\n",
        "MNIST (Modified NIST)：0-9 的手寫數字圖庫。\n",
        "(Training data: 60000 / Testing data: 10000)\n",
        "\n",
        "URL: http://yann.lecun.com/exdb/mnist/"
      ]
    },
    {
      "cell_type": "markdown",
      "metadata": {
        "id": "wVSdolkn0Avg"
      },
      "source": [
        "### 2.1 由 Keras 讀入 MNIST"
      ]
    },
    {
      "cell_type": "code",
      "execution_count": null,
      "metadata": {
        "id": "LKuZWeVy0Avg"
      },
      "outputs": [],
      "source": [
        "(x_train, y_train), (x_test, y_test) = mnist.load_data()"
      ]
    },
    {
      "cell_type": "code",
      "execution_count": null,
      "metadata": {
        "id": "Z_8DkCJC0Avh"
      },
      "outputs": [],
      "source": [
        "print(f'訓練資料總筆數為 {len(x_train)} 筆資料')\n",
        "print(f'測試資料總筆數為 {len(x_test)} 筆資料')"
      ]
    },
    {
      "cell_type": "code",
      "execution_count": null,
      "metadata": {
        "id": "CGlwkZwyczz5"
      },
      "outputs": [],
      "source": [
        "x_train.shape   # (60000筆數據,28x28的矩陣)"
      ]
    },
    {
      "cell_type": "code",
      "execution_count": null,
      "metadata": {
        "id": "2NFZKDt3dNl7"
      },
      "outputs": [],
      "source": [
        "x_train[66] # 查看單筆數據"
      ]
    },
    {
      "cell_type": "markdown",
      "metadata": {
        "id": "BnTUn8540Avi"
      },
      "source": [
        "### 2.2 數據庫的內容 (補充數據顯示器)"
      ]
    },
    {
      "cell_type": "code",
      "execution_count": null,
      "metadata": {
        "id": "l5RwWLHx0Avi"
      },
      "outputs": [],
      "source": [
        "def show_xy(n=0):\n",
        "    ax = plt.gca()\n",
        "    X = x_train[n]\n",
        "    plt.xticks([], [])\n",
        "    plt.yticks([], [])\n",
        "    plt.imshow(X, cmap = 'Greys')\n",
        "    print(f'本資料 y 給定的答案為: {y_train[n]}')"
      ]
    },
    {
      "cell_type": "code",
      "execution_count": null,
      "metadata": {
        "id": "RfBAIU280Avj"
      },
      "outputs": [],
      "source": [
        "interact_manual(show_xy, n=(0,59999));"
      ]
    },
    {
      "cell_type": "code",
      "execution_count": null,
      "metadata": {
        "id": "Us54Okz50Avj"
      },
      "outputs": [],
      "source": [
        "def show_data(n = 100):\n",
        "    X = x_train[n]\n",
        "    print(X)"
      ]
    },
    {
      "cell_type": "code",
      "execution_count": null,
      "metadata": {
        "id": "M11bhEOl0Avj"
      },
      "outputs": [],
      "source": [
        "interact_manual(show_data, n=(0,59999));"
      ]
    },
    {
      "cell_type": "markdown",
      "metadata": {
        "id": "fOPj5Mh50Avk"
      },
      "source": [
        "### 2.3 輸入格式整理\n",
        "\n",
        "將原 28x28 reshape 成 784"
      ]
    },
    {
      "cell_type": "code",
      "execution_count": null,
      "metadata": {
        "id": "pT7oXt8B0Avk"
      },
      "outputs": [],
      "source": [
        "# Normalization\n",
        "x_train = x_train.reshape(60000, 784)/255  # 把數字壓到0-1之間\n",
        "x_test = x_test.reshape(10000, 784)/255"
      ]
    },
    {
      "cell_type": "code",
      "execution_count": null,
      "metadata": {
        "id": "3EPv5kFsgy9a"
      },
      "outputs": [],
      "source": [
        "x_train.shape"
      ]
    },
    {
      "cell_type": "markdown",
      "metadata": {
        "id": "zGasUliyjUzm"
      },
      "source": [
        "### 2.4 輸出格式整理"
      ]
    },
    {
      "cell_type": "code",
      "execution_count": null,
      "metadata": {
        "id": "_i22oLVf0Avl"
      },
      "outputs": [],
      "source": [
        "y_train = to_categorical(y_train, 10)\n",
        "y_test = to_categorical(y_test, 10)"
      ]
    },
    {
      "cell_type": "code",
      "execution_count": null,
      "metadata": {
        "id": "SxkwtCy-0Avm"
      },
      "outputs": [],
      "source": [
        "y_train[66]"
      ]
    },
    {
      "cell_type": "markdown",
      "metadata": {
        "id": "4MDhWZk10Avm"
      },
      "source": [
        "## 3. 打造神經網路"
      ]
    },
    {
      "cell_type": "markdown",
      "metadata": {
        "id": "UXydepP550U5"
      },
      "source": [
        "### 3.1 決定神經網路架構、讀入相關套件\n",
        "\n",
        "指定\n",
        "* 基活函數\n",
        "* 多少個隱藏層\n",
        "* 每層多少個神經元"
      ]
    },
    {
      "cell_type": "markdown",
      "metadata": {
        "id": "m41UZZdF0Avm"
      },
      "source": [
        "### 3.2 建構神經網路\n",
        "\n",
        "`Sequential` : 神經網路"
      ]
    },
    {
      "cell_type": "code",
      "execution_count": null,
      "metadata": {
        "id": "PzCKGBSypwPX"
      },
      "outputs": [],
      "source": [
        "# 設定神經網路第一層N1神經元,第二層N2,第三層N3,第四層N4,第四層N4\n",
        "\n",
        "N1 = 256\n",
        "N2 = 128\n",
        "N3 = 256\n",
        "N4 = 128  # 嘗試N1至N4皆=25時，訓練準確率僅有0.84\n",
        "#N5 = 256  # 當N1=256,N2=128,N3=256,N4=128時，訓練準確率提升至0.86，嘗試加入N5提高準確率(準確率反而下降至0.74，所以移除N5)"
      ]
    },
    {
      "cell_type": "code",
      "execution_count": null,
      "metadata": {
        "id": "F_fx6jw80Avm"
      },
      "outputs": [],
      "source": [
        "model = Sequential()"
      ]
    },
    {
      "cell_type": "code",
      "execution_count": null,
      "metadata": {
        "id": "wrBnZ3Xw0Avn"
      },
      "outputs": [],
      "source": [
        "model.add(Dense(N1, input_dim=784, activation='relu'))"
      ]
    },
    {
      "cell_type": "code",
      "execution_count": null,
      "metadata": {
        "id": "4UtBjkQh0Avn"
      },
      "outputs": [],
      "source": [
        "model.add(Dense(N2, activation='relu'))   # 因為是全連接層，所以input_dim=前一層的神經元數"
      ]
    },
    {
      "cell_type": "code",
      "execution_count": null,
      "metadata": {
        "id": "v3pVDFVR0Avn"
      },
      "outputs": [],
      "source": [
        "model.add(Dense(N3, activation='tanh'))   # 試用`tanh`激活函數"
      ]
    },
    {
      "cell_type": "code",
      "execution_count": null,
      "metadata": {
        "id": "rtIeAWkqZm5e"
      },
      "outputs": [],
      "source": [
        "model.add(Dense(N4, activation='relu'))"
      ]
    },
    {
      "cell_type": "code",
      "execution_count": null,
      "metadata": {
        "id": "k48fVC__aJSY"
      },
      "outputs": [],
      "source": [
        "#model.add(Dense(N5, activation='relu'))   # 加入N5準確率反而下降至0.74，所以移除N5"
      ]
    },
    {
      "cell_type": "code",
      "execution_count": null,
      "metadata": {
        "id": "H6P7C6Nk0Avo"
      },
      "outputs": [],
      "source": [
        "model.add(Dense(10, activation='softmax'))  # 輸出為多類別所以使用'softmax'"
      ]
    },
    {
      "cell_type": "markdown",
      "metadata": {
        "id": "5znBU0DV0Avo"
      },
      "source": [
        "### 3.3 組裝\n",
        "\n",
        "選擇\n",
        "* loss function : `mse`\n",
        "* optimizer : SGD, adam...\n",
        "* learning rate\n",
        "* 其他 metrics : `accuracy`\n"
      ]
    },
    {
      "cell_type": "code",
      "execution_count": null,
      "metadata": {
        "id": "lGLgh8Gz0Avo"
      },
      "outputs": [],
      "source": [
        "model.compile(loss='mse', optimizer=SGD(learning_rate=0.01), metrics=['accuracy'])"
      ]
    },
    {
      "cell_type": "markdown",
      "metadata": {
        "id": "xf9ykvbJ0Avo"
      },
      "source": [
        "## 4. 檢視"
      ]
    },
    {
      "cell_type": "markdown",
      "metadata": {
        "id": "kV3613iy0Avp"
      },
      "source": [
        "### 4.1 summary"
      ]
    },
    {
      "cell_type": "code",
      "execution_count": null,
      "metadata": {
        "id": "0yJJowZE0Avp"
      },
      "outputs": [],
      "source": [
        "model.summary()"
      ]
    },
    {
      "cell_type": "markdown",
      "metadata": {
        "id": "R5VHPpfd0Avp"
      },
      "source": [
        "## 5. 訓練神經網路\n",
        "\n",
        "\n",
        "* `batch_size` : 一次要訓練幾筆資料\n",
        "* `epochs` : 這 6 萬筆資料一共要訓練幾次"
      ]
    },
    {
      "cell_type": "code",
      "execution_count": null,
      "metadata": {
        "id": "3kGnQuE8xSCG"
      },
      "outputs": [],
      "source": [
        "# AI prompt: 紀錄每次的訓練結果\n",
        "\n",
        "class TrainingHistoryCallback(tf.keras.callbacks.Callback):\n",
        "    def on_train_begin(self, logs={}):\n",
        "        self.losses = []\n",
        "        self.accuracy = []\n",
        "    def on_epoch_end(self, batch, logs={}):\n",
        "        self.losses.append(logs.get('loss'))\n",
        "        self.accuracy.append(logs.get('accuracy'))\n",
        "\n",
        "history_callback = TrainingHistoryCallback()"
      ]
    },
    {
      "cell_type": "code",
      "execution_count": null,
      "metadata": {
        "id": "1jwuUx4a0Avq"
      },
      "outputs": [],
      "source": [
        "model.fit(x_train, y_train, batch_size=150, epochs=100, callbacks=[history_callback])  # 嘗試epochs=30，準確率僅有七八成"
      ]
    },
    {
      "cell_type": "code",
      "execution_count": null,
      "metadata": {
        "id": "a1JSjAJhxHmd"
      },
      "outputs": [],
      "source": [
        "plt.figure(figsize=(10, 5))\n",
        "plt.plot(history_callback.losses, label='Loss')\n",
        "plt.plot(history_callback.accuracy, label='Accuracy')\n",
        "plt.title('Training Loss and Accuracy')\n",
        "plt.xlabel('Epoch')\n",
        "plt.ylabel('Value')\n",
        "plt.legend()\n",
        "plt.show()"
      ]
    },
    {
      "cell_type": "markdown",
      "metadata": {
        "id": "-6ykAvga0Avq"
      },
      "source": [
        "## 6. 結果"
      ]
    },
    {
      "cell_type": "code",
      "execution_count": null,
      "metadata": {
        "id": "I9c1E_Cj0Avq"
      },
      "outputs": [],
      "source": [
        "loss, acc = model.evaluate(x_test, y_test)"
      ]
    },
    {
      "cell_type": "code",
      "execution_count": null,
      "metadata": {
        "id": "Z5XOR_Pd0Avq"
      },
      "outputs": [],
      "source": [
        "print(f\"測試資料正確率 {acc*100:.2f}%\")"
      ]
    },
    {
      "cell_type": "code",
      "execution_count": null,
      "metadata": {
        "id": "6MlKktZ50Avr"
      },
      "outputs": [],
      "source": [
        "predict = np.argmax(model.predict(x_test), axis=-1)"
      ]
    },
    {
      "cell_type": "code",
      "execution_count": null,
      "metadata": {
        "id": "9R_o6HD_0Avr"
      },
      "outputs": [],
      "source": [
        "predict"
      ]
    },
    {
      "cell_type": "markdown",
      "metadata": {
        "id": "2RX6YjUj0Avr"
      },
      "source": [
        "將 `x_test` 784 維的向量 reshape 回 28x28 的矩陣才能當成圖形顯示出來!"
      ]
    },
    {
      "cell_type": "code",
      "execution_count": null,
      "metadata": {
        "id": "v5i4Cxpo0Avs"
      },
      "outputs": [],
      "source": [
        "def test(測試編號):\n",
        "    plt.imshow(x_test[測試編號].reshape(28,28), cmap='Greys')\n",
        "    print('神經網路判斷為:', predict[測試編號])"
      ]
    },
    {
      "cell_type": "code",
      "execution_count": null,
      "metadata": {
        "id": "-KT1EFNc0Avs"
      },
      "outputs": [],
      "source": [
        "interact_manual(test, 測試編號=(0, 9999));"
      ]
    },
    {
      "cell_type": "code",
      "execution_count": null,
      "metadata": {
        "id": "cpilhXP00Avs"
      },
      "outputs": [],
      "source": [
        "score = model.evaluate(x_test, y_test)"
      ]
    },
    {
      "cell_type": "code",
      "execution_count": null,
      "metadata": {
        "id": "GTtgPGrF0Avt"
      },
      "outputs": [],
      "source": [
        "print('loss:', score[0])\n",
        "print('正確率', score[1])"
      ]
    },
    {
      "cell_type": "markdown",
      "metadata": {
        "id": "FWK0fgKgCHa7"
      },
      "source": [
        "### 7. 用 Gradio 來展示"
      ]
    },
    {
      "cell_type": "code",
      "execution_count": null,
      "metadata": {
        "id": "YCDldfE4eVh6"
      },
      "outputs": [],
      "source": [
        "def resize_image(inp):\n",
        "    # 圖在 inp[\"layers\"][0]\n",
        "    image = np.array(inp[\"layers\"][0], dtype=np.float32)\n",
        "    image = image.astype(np.uint8)\n",
        "\n",
        "    # 轉成 PIL 格式\n",
        "    image_pil = Image.fromarray(image)\n",
        "\n",
        "    # Alpha 通道設為白色, 再把圖從 RGBA 轉成 RGB\n",
        "    background = Image.new(\"RGB\", image_pil.size, (255, 255, 255))\n",
        "    background.paste(image_pil, mask=image_pil.split()[3]) # 把圖片粘貼到白色背景上，使用透明通道作為遮罩\n",
        "    image_pil = background\n",
        "\n",
        "    # 轉換為灰階圖像\n",
        "    image_gray = image_pil.convert(\"L\")\n",
        "\n",
        "    # 將灰階圖像縮放到 28x28, 轉回 numpy array\n",
        "    img_array = np.array(image_gray.resize((28, 28), resample=Image.LANCZOS))\n",
        "\n",
        "    # 配合 MNIST 數據集\n",
        "    img_array = 255 - img_array\n",
        "\n",
        "    # 拉平並縮放\n",
        "    img_array = img_array.reshape(1, 784) / 255.0\n",
        "\n",
        "    return img_array"
      ]
    },
    {
      "cell_type": "code",
      "execution_count": null,
      "metadata": {
        "id": "QUejwCO9S7R4"
      },
      "outputs": [],
      "source": [
        "def recognize_digit(inp):\n",
        "    img_array = resize_image(inp)\n",
        "    prediction = model.predict(img_array).flatten()\n",
        "    labels = list('0123456789')\n",
        "    return {labels[i]: float(prediction[i]) for i in range(10)}"
      ]
    },
    {
      "cell_type": "code",
      "execution_count": null,
      "metadata": {
        "id": "ITOFueb5KSBD"
      },
      "outputs": [],
      "source": [
        "iface = gr.Interface(\n",
        "    fn=recognize_digit,\n",
        "    inputs=gr.Sketchpad(),\n",
        "    outputs=gr.Label(num_top_classes=3),\n",
        "    title=\"MNIST 手寫辨識\",\n",
        "    description=\"請在畫板上繪製數字\"\n",
        ")\n",
        "\n",
        "iface.launch(share=True, debug=True)"
      ]
    },
    {
      "cell_type": "markdown",
      "metadata": {
        "id": "62dwwzd8zfoj"
      },
      "source": [
        "# 手寫辨識結果"
      ]
    },
    {
      "cell_type": "markdown",
      "metadata": {
        "id": "JO_QDmlnzY7u"
      },
      "source": [
        "![image.png](data:image/png;base64,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)"
      ]
    },
    {
      "cell_type": "code",
      "execution_count": null,
      "metadata": {
        "id": "OL7DdMe7rZhr"
      },
      "outputs": [],
      "source": [
        "!pip install nbformat"
      ]
    },
    {
      "cell_type": "code",
      "execution_count": null,
      "metadata": {
        "id": "I2pSnXN5sTfP"
      },
      "outputs": [],
      "source": [
        "from google.colab import drive\n",
        "drive.mount('/content/drive')"
      ]
    },
    {
      "cell_type": "code",
      "execution_count": null,
      "metadata": {
        "id": "b12PsVGUrv2T"
      },
      "outputs": [],
      "source": [
        "import os\n",
        "\n",
        "for root, dirs, files in os.walk(\"/content\"):\n",
        "    for f in files:\n",
        "        if \"AI02_DNN手寫辨識.ipynb\" in f:\n",
        "            print(os.path.join(root, f))\n"
      ]
    },
    {
      "cell_type": "code",
      "execution_count": 18,
      "metadata": {
        "id": "iBnY5psEzdgu",
        "colab": {
          "base_uri": "https://localhost:8080/"
        },
        "outputId": "757ac3a5-b205-43ee-9f09-ae56d90a4a4a"
      },
      "outputs": [
        {
          "output_type": "stream",
          "name": "stdout",
          "text": [
            "✅ 已移除 widgets metadata 與輸出，可以安全 push 到 GitHub！\n"
          ]
        }
      ],
      "source": [
        "import nbformat\n",
        "\n",
        "# 設定 notebook 檔案路徑（換成你找到的完整路徑）\n",
        "notebook_path = \"/content/drive/MyDrive/Colab Notebooks/AI02_DNN手寫辨識.ipynb\"\n",
        "\n",
        "# 讀取 notebook\n",
        "with open(notebook_path, \"r\", encoding=\"utf-8\") as f:\n",
        "    nb = nbformat.read(f, as_version=4)\n",
        "\n",
        "# 移除所有輸出與 widgets metadata\n",
        "for cell in nb.cells:\n",
        "    if \"outputs\" in cell:\n",
        "        cell[\"outputs\"] = []\n",
        "    if \"execution_count\" in cell:\n",
        "        cell[\"execution_count\"] = None\n",
        "\n",
        "if \"widgets\" in nb.metadata:\n",
        "    del nb.metadata[\"widgets\"]\n",
        "\n",
        "# 儲存回 notebook\n",
        "with open(notebook_path, \"w\", encoding=\"utf-8\") as f:\n",
        "    nbformat.write(nb, f)\n",
        "\n",
        "print(\"✅ 已移除 widgets metadata 與輸出，可以安全 push 到 GitHub！\")\n"
      ]
    },
    {
      "cell_type": "code",
      "execution_count": null,
      "metadata": {
        "id": "Untp1_cdrpKQ"
      },
      "outputs": [],
      "source": []
    }
  ],
  "metadata": {
    "accelerator": "GPU",
    "anaconda-cloud": {},
    "colab": {
      "gpuType": "T4",
      "provenance": [],
      "include_colab_link": true
    },
    "kernelspec": {
      "display_name": "Python 3",
      "name": "python3"
    },
    "language_info": {
      "name": "python"
    }
  },
  "nbformat": 4,
  "nbformat_minor": 0
}