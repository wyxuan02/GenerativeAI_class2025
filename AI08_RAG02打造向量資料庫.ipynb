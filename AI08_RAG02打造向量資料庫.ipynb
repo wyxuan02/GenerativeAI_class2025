{
  "cells": [
    {
      "cell_type": "markdown",
      "metadata": {
        "id": "view-in-github",
        "colab_type": "text"
      },
      "source": [
        "<a href=\"https://colab.research.google.com/github/wyxuan02/GenerativeAI_class2025/blob/main/AI08_RAG02%E6%89%93%E9%80%A0%E5%90%91%E9%87%8F%E8%B3%87%E6%96%99%E5%BA%AB.ipynb\" target=\"_parent\"><img src=\"https://colab.research.google.com/assets/colab-badge.svg\" alt=\"Open In Colab\"/></a>"
      ]
    },
    {
      "cell_type": "markdown",
      "metadata": {
        "id": "cOqbRYLICDyg"
      },
      "source": [
        "課程範例：https://github.com/yenlung/AI-Demo/blob/master/%E3%80%90Demo06b%E3%80%91RAG02_%E6%89%93%E9%80%A0_RAG_%E7%B3%BB%E7%B5%B1.ipynb"
      ]
    },
    {
      "cell_type": "code",
      "execution_count": null,
      "metadata": {
        "id": "o7g0wChcoN09"
      },
      "outputs": [],
      "source": [
        "# prompt: 用 Linux 指令，讀入一個在網路上，網址是 URL 的檔案。\n",
        "\n",
        "URL = \"https://drive.google.com/uc?export=download&id=1VdM8HwgDczeThp3S8MKPU8xrO784JPIv\"\n",
        "\n",
        "!wget -O faiss_db.zip \"$URL\"\n"
      ]
    },
    {
      "cell_type": "code",
      "execution_count": null,
      "metadata": {
        "id": "rhPQD5g0_l5Z"
      },
      "outputs": [],
      "source": [
        "!unzip faiss_db.zip"
      ]
    },
    {
      "cell_type": "markdown",
      "metadata": {
        "id": "Cc-facvpBkIi"
      },
      "source": [
        "### 1. 安裝並引入必要套件"
      ]
    },
    {
      "cell_type": "code",
      "execution_count": null,
      "metadata": {
        "id": "9JThdfm-CVZZ"
      },
      "outputs": [],
      "source": [
        "!pip install -U langchain langchain-community sentence-transformers faiss-cpu gradio openai"
      ]
    },
    {
      "cell_type": "code",
      "execution_count": null,
      "metadata": {
        "id": "L1zqb7F8BMP3"
      },
      "outputs": [],
      "source": [
        "from langchain_community.vectorstores import FAISS\n",
        "from langchain_community.embeddings import HuggingFaceEmbeddings\n",
        "from langchain.chat_models import ChatOpenAI\n",
        "from langchain.chains import ConversationalRetrievalChain"
      ]
    },
    {
      "cell_type": "code",
      "execution_count": null,
      "metadata": {
        "id": "PTx3Q75QBp_J"
      },
      "outputs": [],
      "source": [
        "from openai import OpenAI\n",
        "import gradio as gr"
      ]
    },
    {
      "cell_type": "markdown",
      "metadata": {
        "id": "z13eoo6uCnTT"
      },
      "source": [
        "### 2. 自訂 E5 embedding 類別"
      ]
    },
    {
      "cell_type": "code",
      "execution_count": null,
      "metadata": {
        "id": "HkmvGTaECfTY"
      },
      "outputs": [],
      "source": [
        "class CustomE5Embedding(HuggingFaceEmbeddings):\n",
        "    def embed_documents(self, texts):\n",
        "        texts = [f\"passage: {t}\" for t in texts]\n",
        "        return super().embed_documents(texts)\n",
        "\n",
        "    def embed_query(self, text):\n",
        "        return super().embed_query(f\"query: {text}\")"
      ]
    },
    {
      "cell_type": "markdown",
      "metadata": {
        "id": "NkXNMQs5RbNG"
      },
      "source": [
        "### 3. 載入 `faiss_db`"
      ]
    },
    {
      "cell_type": "code",
      "execution_count": null,
      "metadata": {
        "id": "LkELACdWCtpo"
      },
      "outputs": [],
      "source": [
        "embedding_model = CustomE5Embedding(model_name=\"intfloat/multilingual-e5-small\")\n",
        "db = FAISS.load_local(\"faiss_db\", embedding_model, allow_dangerous_deserialization=True)\n",
        "retriever = db.as_retriever()"
      ]
    },
    {
      "cell_type": "markdown",
      "metadata": {
        "id": "GrHSAsjcRkXF"
      },
      "source": [
        "### 4. 設定好我們要的 LLM"
      ]
    },
    {
      "cell_type": "code",
      "execution_count": null,
      "metadata": {
        "id": "qefbHOaUDUvR"
      },
      "outputs": [],
      "source": [
        "import os\n",
        "from google.colab import userdata"
      ]
    },
    {
      "cell_type": "code",
      "execution_count": null,
      "metadata": {
        "id": "Xefdy-lkRtAL"
      },
      "outputs": [],
      "source": [
        "api_key = userdata.get('Groq')"
      ]
    },
    {
      "cell_type": "code",
      "execution_count": null,
      "metadata": {
        "id": "K7UiOKuTDD5F"
      },
      "outputs": [],
      "source": [
        "os.environ[\"OPENAI_API_KEY\"] = api_key"
      ]
    },
    {
      "cell_type": "code",
      "execution_count": null,
      "metadata": {
        "id": "sqWfH90JFFWV"
      },
      "outputs": [],
      "source": [
        "model = \"llama3-70b-8192\"\n",
        "base_url=\"https://api.groq.com/openai/v1\""
      ]
    },
    {
      "cell_type": "code",
      "execution_count": null,
      "metadata": {
        "id": "JnqlH0W9P2-Q"
      },
      "outputs": [],
      "source": [
        "client = OpenAI(\n",
        "    base_url=base_url # 使用 OpenAI 本身不需要這段\n",
        ")"
      ]
    },
    {
      "cell_type": "markdown",
      "metadata": {
        "id": "K0egxeawSR41"
      },
      "source": [
        "### 5. `prompt` 設計"
      ]
    },
    {
      "cell_type": "code",
      "execution_count": null,
      "metadata": {
        "id": "ZaUnqDpfFop-"
      },
      "outputs": [],
      "source": [
        "system_prompt = '''你是一位專業且非常有名氣的私廚，專門根據使用者的飲食偏好與健康目標提供創意餐食建議。\n",
        "請確保推薦的餐點適合不同的飲食需求，如低碳水、蛋白質高、素食或低熱量選項,並且以「你的專屬私廚已上線!👨🏻‍🍳✨」結尾。\n",
        "請確保你的回答僅包含餐食推薦，不提供非飲食相關的資訊。避免推薦過度加工食品，並以天然食材為主。若使用者沒有提供具體要求，請推薦一般均衡飲食的餐食。\n",
        "如果使用者提供飲食偏好、過敏資訊或健康目標（如減重、增肌、控糖），請根據這些條件調整建議內容。如果使用者沒有提供具體條件，請提供一份適合大多數人的健康晚餐選擇。\n",
        "請在回答時提供完整的餐點建議，包括食材、製作方式和營養價值。如果可以，提供替代選項，例如如果某種食材不適合，建議其他類似的選擇。\n",
        "請用台灣習慣的繁體中文回應。所有提供的訊息請都用繁體中文回應。'''\n",
        "\n",
        "prompt_template = \"\"\"\n",
        "根據下列資料回答問題：\n",
        "{retrieved_chunks}\n",
        "\n",
        "使用者的問題是：{question}\n",
        "\n",
        "請根據資料內容回覆，若資料不足請告訴使用者敬請期待更新菜單。\n",
        "\"\"\""
      ]
    },
    {
      "cell_type": "markdown",
      "metadata": {
        "id": "qw8azlVESghL"
      },
      "source": [
        "### 6. 使用 RAG 來回應\n",
        "\n",
        "搜尋與使用者問題相關的資訊，根據我們的 prompt 樣版去讓 LLM 回應。"
      ]
    },
    {
      "cell_type": "code",
      "execution_count": null,
      "metadata": {
        "id": "pWfDUb3mD-6X"
      },
      "outputs": [],
      "source": [
        "chat_history = []\n",
        "\n",
        "def chat_with_rag(user_input):\n",
        "    global chat_history\n",
        "    # 取回相關資料\n",
        "    docs = retriever.get_relevant_documents(user_input)\n",
        "    retrieved_chunks = \"\\n\\n\".join([doc.page_content for doc in docs])\n",
        "\n",
        "    # 將自定 prompt 套入格式\n",
        "    final_prompt = prompt_template.format(retrieved_chunks=retrieved_chunks, question=user_input)\n",
        "\n",
        "    # 呼叫 OpenAI API\n",
        "    response = client.chat.completions.create(\n",
        "    model=model,\n",
        "    messages=[\n",
        "        {\"role\": \"system\", \"content\": system_prompt},\n",
        "        {\"role\": \"user\", \"content\": final_prompt},\n",
        "    ]\n",
        "    )\n",
        "    answer = response.choices[0].message.content\n",
        "\n",
        "    chat_history.append((user_input, answer))\n",
        "    return answer"
      ]
    },
    {
      "cell_type": "markdown",
      "metadata": {
        "id": "5m7E7XmgTJUr"
      },
      "source": [
        "### 7. 用 Gradio 打造 Web App"
      ]
    },
    {
      "cell_type": "code",
      "execution_count": null,
      "metadata": {
        "id": "kqPR2Adk3CLJ"
      },
      "outputs": [],
      "source": [
        "# 自訂 CSS\n",
        "\n",
        "custom_css = \"\"\"\n",
        "body, html {\n",
        "    background-color: #003377 !important;  /* 湛藍色 */\n",
        "    margin: 0;\n",
        "    padding: 0;\n",
        "}\n",
        ".gradio-container {\n",
        "    background-color: #003377 !important;  /* 確保容器背景湛藍色 */\n",
        "    box-shadow: none !important;  /* 移除內部陰影 */\n",
        "}\n",
        "h1 {\n",
        "    font-size: 80px;\n",
        "    font-weight: bold;\n",
        "    color: \t#FFDD55;\n",
        "    text-align: center;\n",
        "}\n",
        "p {\n",
        "    font-size: 25px;\n",
        "    font-weight: bold;\n",
        "    color: \"Black\"; /* 白色文字 */\n",
        "    text-align: center;\n",
        "    margin-top: 20px;\n",
        "}\n",
        "@keyframes neon-glow {\n",
        "    0% { box-shadow: 0px 0px 5px #00ffcc; }\n",
        "    50% { box-shadow: 0px 0px 20px #00ffcc; }\n",
        "    100% { box-shadow: 0px 0px 5px #00ffcc; }\n",
        "}\n",
        "\n",
        "\n",
        "input, textarea {\n",
        "    background-color: #1e1e1e;  /* 深色背景 */\n",
        "    color: #ffcc00;  /* 顯眼的亮黃色 */\n",
        "    border: 2px solid #ffcc00; /* 黃色邊框 */\n",
        "    font-size: 18px;\n",
        "    padding: 10px;\n",
        "    border-radius: 5px;\n",
        "}\n",
        "button {\n",
        "    background-color: #00ffcc;\n",
        "    color: #121212;\n",
        "    font-weight: bold;\n",
        "    border-radius: 10px;\n",
        "    padding: 10px 20px;\n",
        "    border: none;\n",
        "    transition: all 0.3s ease-in-out;\n",
        "    box-shadow: 0px 0px 15px #00ffcc; /* 霓虹藍光 */\n",
        "}\n",
        "button:hover {\n",
        "    background-color: #ff00ff;\n",
        "    color: #ffffff;\n",
        "    box-shadow: 0px 0px 20px #ff00ff; /* 變成霓虹粉色 */\n",
        "}\n",
        "\"\"\""
      ]
    },
    {
      "cell_type": "code",
      "execution_count": null,
      "metadata": {
        "id": "YI5swv4AFa_U"
      },
      "outputs": [],
      "source": [
        "with gr.Blocks(css=custom_css) as demo:\n",
        "    gr.Markdown(\"# 你的專屬私廚👨🏻‍🍳💝\")\n",
        "    chatbot = gr.Chatbot()\n",
        "    msg = gr.Textbox(placeholder=\"請輸入你的問題...\")\n",
        "\n",
        "    def respond(message, chat_history_local):\n",
        "        response = chat_with_rag(message)\n",
        "        chat_history_local.append((message, response))\n",
        "        return \"\", chat_history_local\n",
        "\n",
        "    msg.submit(respond, [msg, chatbot], [msg, chatbot])\n",
        "\n",
        "demo.launch(debug=True)"
      ]
    },
    {
      "cell_type": "code",
      "execution_count": null,
      "metadata": {
        "id": "Tvhd9jYKFeGR"
      },
      "outputs": [],
      "source": []
    },
    {
      "cell_type": "code",
      "execution_count": null,
      "metadata": {
        "id": "ofAKv0xqB49i"
      },
      "outputs": [],
      "source": [
        "from google.colab import drive\n",
        "drive.mount('/content/drive')"
      ]
    },
    {
      "cell_type": "code",
      "execution_count": 3,
      "metadata": {
        "id": "845sFU7XCJph",
        "colab": {
          "base_uri": "https://localhost:8080/"
        },
        "outputId": "1d565ff3-a9c0-4e9c-a152-457f6446521c"
      },
      "outputs": [
        {
          "output_type": "stream",
          "name": "stdout",
          "text": [
            "✅ 已移除 widgets metadata 與輸出，可以安全 push 到 GitHub！\n"
          ]
        }
      ],
      "source": [
        "import nbformat\n",
        "\n",
        "# 設定 notebook 檔案路徑（換成你找到的完整路徑）\n",
        "notebook_path = \"/content/drive/MyDrive/Colab Notebooks/AI08_RAG02打造向量資料庫.ipynb\"\n",
        "\n",
        "# 讀取 notebook\n",
        "with open(notebook_path, \"r\", encoding=\"utf-8\") as f:\n",
        "    nb = nbformat.read(f, as_version=4)\n",
        "\n",
        "# 移除所有輸出與 widgets metadata\n",
        "for cell in nb.cells:\n",
        "    if \"outputs\" in cell:\n",
        "        cell[\"outputs\"] = []\n",
        "    if \"execution_count\" in cell:\n",
        "        cell[\"execution_count\"] = None\n",
        "\n",
        "if \"widgets\" in nb.metadata:\n",
        "    del nb.metadata[\"widgets\"]\n",
        "\n",
        "# 儲存回 notebook\n",
        "with open(notebook_path, \"w\", encoding=\"utf-8\") as f:\n",
        "    nbformat.write(nb, f)\n",
        "\n",
        "print(\"✅ 已移除 widgets metadata 與輸出，可以安全 push 到 GitHub！\")\n"
      ]
    },
    {
      "cell_type": "code",
      "source": [],
      "metadata": {
        "id": "CV-D3GmbCi7Z"
      },
      "execution_count": null,
      "outputs": []
    }
  ],
  "metadata": {
    "colab": {
      "provenance": [],
      "include_colab_link": true
    },
    "kernelspec": {
      "display_name": "Python 3",
      "name": "python3"
    },
    "language_info": {
      "name": "python"
    }
  },
  "nbformat": 4,
  "nbformat_minor": 0
}