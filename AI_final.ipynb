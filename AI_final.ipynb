{
  "nbformat": 4,
  "nbformat_minor": 0,
  "metadata": {
    "colab": {
      "provenance": [],
      "include_colab_link": true
    },
    "kernelspec": {
      "name": "python3",
      "display_name": "Python 3"
    },
    "language_info": {
      "name": "python"
    }
  },
  "cells": [
    {
      "cell_type": "markdown",
      "metadata": {
        "id": "view-in-github",
        "colab_type": "text"
      },
      "source": [
        "<a href=\"https://colab.research.google.com/github/wyxuan02/GenerativeAI_class2025/blob/main/AI_final.ipynb\" target=\"_parent\"><img src=\"https://colab.research.google.com/assets/colab-badge.svg\" alt=\"Open In Colab\"/></a>"
      ]
    },
    {
      "cell_type": "markdown",
      "source": [
        "## Step 1:  安裝並引入必要套件"
      ],
      "metadata": {
        "id": "Cc-facvpBkIi"
      }
    },
    {
      "cell_type": "code",
      "source": [
        "!pip install -U langchain langchain-community sentence-transformers faiss-cpu gradio openai"
      ],
      "metadata": {
        "colab": {
          "base_uri": "https://localhost:8080/"
        },
        "id": "9JThdfm-CVZZ",
        "outputId": "aab97989-6236-4a48-d20e-956c06ba937f"
      },
      "execution_count": null,
      "outputs": [
        {
          "output_type": "stream",
          "name": "stdout",
          "text": [
            "Requirement already satisfied: langchain in /usr/local/lib/python3.11/dist-packages (0.3.25)\n",
            "Collecting langchain-community\n",
            "  Downloading langchain_community-0.3.24-py3-none-any.whl.metadata (2.5 kB)\n",
            "Requirement already satisfied: sentence-transformers in /usr/local/lib/python3.11/dist-packages (4.1.0)\n",
            "Requirement already satisfied: faiss-cpu in /usr/local/lib/python3.11/dist-packages (1.11.0)\n",
            "Requirement already satisfied: gradio in /usr/local/lib/python3.11/dist-packages (5.32.0)\n",
            "Requirement already satisfied: openai in /usr/local/lib/python3.11/dist-packages (1.81.0)\n",
            "Collecting openai\n",
            "  Downloading openai-1.82.1-py3-none-any.whl.metadata (25 kB)\n",
            "Requirement already satisfied: langchain-core<1.0.0,>=0.3.58 in /usr/local/lib/python3.11/dist-packages (from langchain) (0.3.60)\n",
            "Requirement already satisfied: langchain-text-splitters<1.0.0,>=0.3.8 in /usr/local/lib/python3.11/dist-packages (from langchain) (0.3.8)\n",
            "Requirement already satisfied: langsmith<0.4,>=0.1.17 in /usr/local/lib/python3.11/dist-packages (from langchain) (0.3.42)\n",
            "Requirement already satisfied: pydantic<3.0.0,>=2.7.4 in /usr/local/lib/python3.11/dist-packages (from langchain) (2.11.4)\n",
            "Requirement already satisfied: SQLAlchemy<3,>=1.4 in /usr/local/lib/python3.11/dist-packages (from langchain) (2.0.41)\n",
            "Requirement already satisfied: requests<3,>=2 in /usr/local/lib/python3.11/dist-packages (from langchain) (2.32.3)\n",
            "Requirement already satisfied: PyYAML>=5.3 in /usr/local/lib/python3.11/dist-packages (from langchain) (6.0.2)\n",
            "Requirement already satisfied: aiohttp<4.0.0,>=3.8.3 in /usr/local/lib/python3.11/dist-packages (from langchain-community) (3.11.15)\n",
            "Requirement already satisfied: tenacity!=8.4.0,<10,>=8.1.0 in /usr/local/lib/python3.11/dist-packages (from langchain-community) (9.1.2)\n",
            "Collecting dataclasses-json<0.7,>=0.5.7 (from langchain-community)\n",
            "  Downloading dataclasses_json-0.6.7-py3-none-any.whl.metadata (25 kB)\n",
            "Collecting pydantic-settings<3.0.0,>=2.4.0 (from langchain-community)\n",
            "  Downloading pydantic_settings-2.9.1-py3-none-any.whl.metadata (3.8 kB)\n",
            "Collecting httpx-sse<1.0.0,>=0.4.0 (from langchain-community)\n",
            "  Downloading httpx_sse-0.4.0-py3-none-any.whl.metadata (9.0 kB)\n",
            "Requirement already satisfied: numpy>=1.26.2 in /usr/local/lib/python3.11/dist-packages (from langchain-community) (2.0.2)\n",
            "Requirement already satisfied: transformers<5.0.0,>=4.41.0 in /usr/local/lib/python3.11/dist-packages (from sentence-transformers) (4.52.2)\n",
            "Requirement already satisfied: tqdm in /usr/local/lib/python3.11/dist-packages (from sentence-transformers) (4.67.1)\n",
            "Requirement already satisfied: torch>=1.11.0 in /usr/local/lib/python3.11/dist-packages (from sentence-transformers) (2.6.0+cu124)\n",
            "Requirement already satisfied: scikit-learn in /usr/local/lib/python3.11/dist-packages (from sentence-transformers) (1.6.1)\n",
            "Requirement already satisfied: scipy in /usr/local/lib/python3.11/dist-packages (from sentence-transformers) (1.15.3)\n",
            "Requirement already satisfied: huggingface-hub>=0.20.0 in /usr/local/lib/python3.11/dist-packages (from sentence-transformers) (0.31.4)\n",
            "Requirement already satisfied: Pillow in /usr/local/lib/python3.11/dist-packages (from sentence-transformers) (11.2.1)\n",
            "Requirement already satisfied: typing_extensions>=4.5.0 in /usr/local/lib/python3.11/dist-packages (from sentence-transformers) (4.13.2)\n",
            "Requirement already satisfied: packaging in /usr/local/lib/python3.11/dist-packages (from faiss-cpu) (24.2)\n",
            "Requirement already satisfied: aiofiles<25.0,>=22.0 in /usr/local/lib/python3.11/dist-packages (from gradio) (24.1.0)\n",
            "Requirement already satisfied: anyio<5.0,>=3.0 in /usr/local/lib/python3.11/dist-packages (from gradio) (4.9.0)\n",
            "Requirement already satisfied: fastapi<1.0,>=0.115.2 in /usr/local/lib/python3.11/dist-packages (from gradio) (0.115.12)\n",
            "Requirement already satisfied: ffmpy in /usr/local/lib/python3.11/dist-packages (from gradio) (0.5.0)\n",
            "Requirement already satisfied: gradio-client==1.10.2 in /usr/local/lib/python3.11/dist-packages (from gradio) (1.10.2)\n",
            "Requirement already satisfied: groovy~=0.1 in /usr/local/lib/python3.11/dist-packages (from gradio) (0.1.2)\n",
            "Requirement already satisfied: httpx>=0.24.1 in /usr/local/lib/python3.11/dist-packages (from gradio) (0.28.1)\n",
            "Requirement already satisfied: jinja2<4.0 in /usr/local/lib/python3.11/dist-packages (from gradio) (3.1.6)\n",
            "Requirement already satisfied: markupsafe<4.0,>=2.0 in /usr/local/lib/python3.11/dist-packages (from gradio) (3.0.2)\n",
            "Requirement already satisfied: orjson~=3.0 in /usr/local/lib/python3.11/dist-packages (from gradio) (3.10.18)\n",
            "Requirement already satisfied: pandas<3.0,>=1.0 in /usr/local/lib/python3.11/dist-packages (from gradio) (2.2.2)\n",
            "Requirement already satisfied: pydub in /usr/local/lib/python3.11/dist-packages (from gradio) (0.25.1)\n",
            "Requirement already satisfied: python-multipart>=0.0.18 in /usr/local/lib/python3.11/dist-packages (from gradio) (0.0.20)\n",
            "Requirement already satisfied: ruff>=0.9.3 in /usr/local/lib/python3.11/dist-packages (from gradio) (0.11.12)\n",
            "Requirement already satisfied: safehttpx<0.2.0,>=0.1.6 in /usr/local/lib/python3.11/dist-packages (from gradio) (0.1.6)\n",
            "Requirement already satisfied: semantic-version~=2.0 in /usr/local/lib/python3.11/dist-packages (from gradio) (2.10.0)\n",
            "Requirement already satisfied: starlette<1.0,>=0.40.0 in /usr/local/lib/python3.11/dist-packages (from gradio) (0.46.2)\n",
            "Requirement already satisfied: tomlkit<0.14.0,>=0.12.0 in /usr/local/lib/python3.11/dist-packages (from gradio) (0.13.2)\n",
            "Requirement already satisfied: typer<1.0,>=0.12 in /usr/local/lib/python3.11/dist-packages (from gradio) (0.15.3)\n",
            "Requirement already satisfied: uvicorn>=0.14.0 in /usr/local/lib/python3.11/dist-packages (from gradio) (0.34.2)\n",
            "Requirement already satisfied: fsspec in /usr/local/lib/python3.11/dist-packages (from gradio-client==1.10.2->gradio) (2025.3.2)\n",
            "Requirement already satisfied: websockets<16.0,>=10.0 in /usr/local/lib/python3.11/dist-packages (from gradio-client==1.10.2->gradio) (15.0.1)\n",
            "Requirement already satisfied: distro<2,>=1.7.0 in /usr/local/lib/python3.11/dist-packages (from openai) (1.9.0)\n",
            "Requirement already satisfied: jiter<1,>=0.4.0 in /usr/local/lib/python3.11/dist-packages (from openai) (0.10.0)\n",
            "Requirement already satisfied: sniffio in /usr/local/lib/python3.11/dist-packages (from openai) (1.3.1)\n",
            "Requirement already satisfied: aiohappyeyeballs>=2.3.0 in /usr/local/lib/python3.11/dist-packages (from aiohttp<4.0.0,>=3.8.3->langchain-community) (2.6.1)\n",
            "Requirement already satisfied: aiosignal>=1.1.2 in /usr/local/lib/python3.11/dist-packages (from aiohttp<4.0.0,>=3.8.3->langchain-community) (1.3.2)\n",
            "Requirement already satisfied: attrs>=17.3.0 in /usr/local/lib/python3.11/dist-packages (from aiohttp<4.0.0,>=3.8.3->langchain-community) (25.3.0)\n",
            "Requirement already satisfied: frozenlist>=1.1.1 in /usr/local/lib/python3.11/dist-packages (from aiohttp<4.0.0,>=3.8.3->langchain-community) (1.6.0)\n",
            "Requirement already satisfied: multidict<7.0,>=4.5 in /usr/local/lib/python3.11/dist-packages (from aiohttp<4.0.0,>=3.8.3->langchain-community) (6.4.4)\n",
            "Requirement already satisfied: propcache>=0.2.0 in /usr/local/lib/python3.11/dist-packages (from aiohttp<4.0.0,>=3.8.3->langchain-community) (0.3.1)\n",
            "Requirement already satisfied: yarl<2.0,>=1.17.0 in /usr/local/lib/python3.11/dist-packages (from aiohttp<4.0.0,>=3.8.3->langchain-community) (1.20.0)\n",
            "Requirement already satisfied: idna>=2.8 in /usr/local/lib/python3.11/dist-packages (from anyio<5.0,>=3.0->gradio) (3.10)\n",
            "Collecting marshmallow<4.0.0,>=3.18.0 (from dataclasses-json<0.7,>=0.5.7->langchain-community)\n",
            "  Downloading marshmallow-3.26.1-py3-none-any.whl.metadata (7.3 kB)\n",
            "Collecting typing-inspect<1,>=0.4.0 (from dataclasses-json<0.7,>=0.5.7->langchain-community)\n",
            "  Downloading typing_inspect-0.9.0-py3-none-any.whl.metadata (1.5 kB)\n",
            "Requirement already satisfied: certifi in /usr/local/lib/python3.11/dist-packages (from httpx>=0.24.1->gradio) (2025.4.26)\n",
            "Requirement already satisfied: httpcore==1.* in /usr/local/lib/python3.11/dist-packages (from httpx>=0.24.1->gradio) (1.0.9)\n",
            "Requirement already satisfied: h11>=0.16 in /usr/local/lib/python3.11/dist-packages (from httpcore==1.*->httpx>=0.24.1->gradio) (0.16.0)\n",
            "Requirement already satisfied: filelock in /usr/local/lib/python3.11/dist-packages (from huggingface-hub>=0.20.0->sentence-transformers) (3.18.0)\n",
            "Requirement already satisfied: jsonpatch<2.0,>=1.33 in /usr/local/lib/python3.11/dist-packages (from langchain-core<1.0.0,>=0.3.58->langchain) (1.33)\n",
            "Requirement already satisfied: requests-toolbelt<2.0.0,>=1.0.0 in /usr/local/lib/python3.11/dist-packages (from langsmith<0.4,>=0.1.17->langchain) (1.0.0)\n",
            "Requirement already satisfied: zstandard<0.24.0,>=0.23.0 in /usr/local/lib/python3.11/dist-packages (from langsmith<0.4,>=0.1.17->langchain) (0.23.0)\n",
            "Requirement already satisfied: python-dateutil>=2.8.2 in /usr/local/lib/python3.11/dist-packages (from pandas<3.0,>=1.0->gradio) (2.9.0.post0)\n",
            "Requirement already satisfied: pytz>=2020.1 in /usr/local/lib/python3.11/dist-packages (from pandas<3.0,>=1.0->gradio) (2025.2)\n",
            "Requirement already satisfied: tzdata>=2022.7 in /usr/local/lib/python3.11/dist-packages (from pandas<3.0,>=1.0->gradio) (2025.2)\n",
            "Requirement already satisfied: annotated-types>=0.6.0 in /usr/local/lib/python3.11/dist-packages (from pydantic<3.0.0,>=2.7.4->langchain) (0.7.0)\n",
            "Requirement already satisfied: pydantic-core==2.33.2 in /usr/local/lib/python3.11/dist-packages (from pydantic<3.0.0,>=2.7.4->langchain) (2.33.2)\n",
            "Requirement already satisfied: typing-inspection>=0.4.0 in /usr/local/lib/python3.11/dist-packages (from pydantic<3.0.0,>=2.7.4->langchain) (0.4.1)\n",
            "Collecting python-dotenv>=0.21.0 (from pydantic-settings<3.0.0,>=2.4.0->langchain-community)\n",
            "  Downloading python_dotenv-1.1.0-py3-none-any.whl.metadata (24 kB)\n",
            "Requirement already satisfied: charset-normalizer<4,>=2 in /usr/local/lib/python3.11/dist-packages (from requests<3,>=2->langchain) (3.4.2)\n",
            "Requirement already satisfied: urllib3<3,>=1.21.1 in /usr/local/lib/python3.11/dist-packages (from requests<3,>=2->langchain) (2.4.0)\n",
            "Requirement already satisfied: greenlet>=1 in /usr/local/lib/python3.11/dist-packages (from SQLAlchemy<3,>=1.4->langchain) (3.2.2)\n",
            "Requirement already satisfied: networkx in /usr/local/lib/python3.11/dist-packages (from torch>=1.11.0->sentence-transformers) (3.4.2)\n",
            "Collecting nvidia-cuda-nvrtc-cu12==12.4.127 (from torch>=1.11.0->sentence-transformers)\n",
            "  Downloading nvidia_cuda_nvrtc_cu12-12.4.127-py3-none-manylinux2014_x86_64.whl.metadata (1.5 kB)\n",
            "Collecting nvidia-cuda-runtime-cu12==12.4.127 (from torch>=1.11.0->sentence-transformers)\n",
            "  Downloading nvidia_cuda_runtime_cu12-12.4.127-py3-none-manylinux2014_x86_64.whl.metadata (1.5 kB)\n",
            "Collecting nvidia-cuda-cupti-cu12==12.4.127 (from torch>=1.11.0->sentence-transformers)\n",
            "  Downloading nvidia_cuda_cupti_cu12-12.4.127-py3-none-manylinux2014_x86_64.whl.metadata (1.6 kB)\n",
            "Collecting nvidia-cudnn-cu12==9.1.0.70 (from torch>=1.11.0->sentence-transformers)\n",
            "  Downloading nvidia_cudnn_cu12-9.1.0.70-py3-none-manylinux2014_x86_64.whl.metadata (1.6 kB)\n",
            "Collecting nvidia-cublas-cu12==12.4.5.8 (from torch>=1.11.0->sentence-transformers)\n",
            "  Downloading nvidia_cublas_cu12-12.4.5.8-py3-none-manylinux2014_x86_64.whl.metadata (1.5 kB)\n",
            "Collecting nvidia-cufft-cu12==11.2.1.3 (from torch>=1.11.0->sentence-transformers)\n",
            "  Downloading nvidia_cufft_cu12-11.2.1.3-py3-none-manylinux2014_x86_64.whl.metadata (1.5 kB)\n",
            "Collecting nvidia-curand-cu12==10.3.5.147 (from torch>=1.11.0->sentence-transformers)\n",
            "  Downloading nvidia_curand_cu12-10.3.5.147-py3-none-manylinux2014_x86_64.whl.metadata (1.5 kB)\n",
            "Collecting nvidia-cusolver-cu12==11.6.1.9 (from torch>=1.11.0->sentence-transformers)\n",
            "  Downloading nvidia_cusolver_cu12-11.6.1.9-py3-none-manylinux2014_x86_64.whl.metadata (1.6 kB)\n",
            "Collecting nvidia-cusparse-cu12==12.3.1.170 (from torch>=1.11.0->sentence-transformers)\n",
            "  Downloading nvidia_cusparse_cu12-12.3.1.170-py3-none-manylinux2014_x86_64.whl.metadata (1.6 kB)\n",
            "Requirement already satisfied: nvidia-cusparselt-cu12==0.6.2 in /usr/local/lib/python3.11/dist-packages (from torch>=1.11.0->sentence-transformers) (0.6.2)\n",
            "Requirement already satisfied: nvidia-nccl-cu12==2.21.5 in /usr/local/lib/python3.11/dist-packages (from torch>=1.11.0->sentence-transformers) (2.21.5)\n",
            "Requirement already satisfied: nvidia-nvtx-cu12==12.4.127 in /usr/local/lib/python3.11/dist-packages (from torch>=1.11.0->sentence-transformers) (12.4.127)\n",
            "Collecting nvidia-nvjitlink-cu12==12.4.127 (from torch>=1.11.0->sentence-transformers)\n",
            "  Downloading nvidia_nvjitlink_cu12-12.4.127-py3-none-manylinux2014_x86_64.whl.metadata (1.5 kB)\n",
            "Requirement already satisfied: triton==3.2.0 in /usr/local/lib/python3.11/dist-packages (from torch>=1.11.0->sentence-transformers) (3.2.0)\n",
            "Requirement already satisfied: sympy==1.13.1 in /usr/local/lib/python3.11/dist-packages (from torch>=1.11.0->sentence-transformers) (1.13.1)\n",
            "Requirement already satisfied: mpmath<1.4,>=1.1.0 in /usr/local/lib/python3.11/dist-packages (from sympy==1.13.1->torch>=1.11.0->sentence-transformers) (1.3.0)\n",
            "Requirement already satisfied: regex!=2019.12.17 in /usr/local/lib/python3.11/dist-packages (from transformers<5.0.0,>=4.41.0->sentence-transformers) (2024.11.6)\n",
            "Requirement already satisfied: tokenizers<0.22,>=0.21 in /usr/local/lib/python3.11/dist-packages (from transformers<5.0.0,>=4.41.0->sentence-transformers) (0.21.1)\n",
            "Requirement already satisfied: safetensors>=0.4.3 in /usr/local/lib/python3.11/dist-packages (from transformers<5.0.0,>=4.41.0->sentence-transformers) (0.5.3)\n",
            "Requirement already satisfied: click>=8.0.0 in /usr/local/lib/python3.11/dist-packages (from typer<1.0,>=0.12->gradio) (8.2.1)\n",
            "Requirement already satisfied: shellingham>=1.3.0 in /usr/local/lib/python3.11/dist-packages (from typer<1.0,>=0.12->gradio) (1.5.4)\n",
            "Requirement already satisfied: rich>=10.11.0 in /usr/local/lib/python3.11/dist-packages (from typer<1.0,>=0.12->gradio) (13.9.4)\n",
            "Requirement already satisfied: joblib>=1.2.0 in /usr/local/lib/python3.11/dist-packages (from scikit-learn->sentence-transformers) (1.5.0)\n",
            "Requirement already satisfied: threadpoolctl>=3.1.0 in /usr/local/lib/python3.11/dist-packages (from scikit-learn->sentence-transformers) (3.6.0)\n",
            "Requirement already satisfied: jsonpointer>=1.9 in /usr/local/lib/python3.11/dist-packages (from jsonpatch<2.0,>=1.33->langchain-core<1.0.0,>=0.3.58->langchain) (3.0.0)\n",
            "Requirement already satisfied: six>=1.5 in /usr/local/lib/python3.11/dist-packages (from python-dateutil>=2.8.2->pandas<3.0,>=1.0->gradio) (1.17.0)\n",
            "Requirement already satisfied: markdown-it-py>=2.2.0 in /usr/local/lib/python3.11/dist-packages (from rich>=10.11.0->typer<1.0,>=0.12->gradio) (3.0.0)\n",
            "Requirement already satisfied: pygments<3.0.0,>=2.13.0 in /usr/local/lib/python3.11/dist-packages (from rich>=10.11.0->typer<1.0,>=0.12->gradio) (2.19.1)\n",
            "Collecting mypy-extensions>=0.3.0 (from typing-inspect<1,>=0.4.0->dataclasses-json<0.7,>=0.5.7->langchain-community)\n",
            "  Downloading mypy_extensions-1.1.0-py3-none-any.whl.metadata (1.1 kB)\n",
            "Requirement already satisfied: mdurl~=0.1 in /usr/local/lib/python3.11/dist-packages (from markdown-it-py>=2.2.0->rich>=10.11.0->typer<1.0,>=0.12->gradio) (0.1.2)\n",
            "Downloading langchain_community-0.3.24-py3-none-any.whl (2.5 MB)\n",
            "\u001b[2K   \u001b[90m━━━━━━━━━━━━━━━━━━━━━━━━━━━━━━━━━━━━━━━━\u001b[0m \u001b[32m2.5/2.5 MB\u001b[0m \u001b[31m33.8 MB/s\u001b[0m eta \u001b[36m0:00:00\u001b[0m\n",
            "\u001b[?25hDownloading openai-1.82.1-py3-none-any.whl (720 kB)\n",
            "\u001b[2K   \u001b[90m━━━━━━━━━━━━━━━━━━━━━━━━━━━━━━━━━━━━━━━━\u001b[0m \u001b[32m720.5/720.5 kB\u001b[0m \u001b[31m41.8 MB/s\u001b[0m eta \u001b[36m0:00:00\u001b[0m\n",
            "\u001b[?25hDownloading dataclasses_json-0.6.7-py3-none-any.whl (28 kB)\n",
            "Downloading httpx_sse-0.4.0-py3-none-any.whl (7.8 kB)\n",
            "Downloading pydantic_settings-2.9.1-py3-none-any.whl (44 kB)\n",
            "\u001b[2K   \u001b[90m━━━━━━━━━━━━━━━━━━━━━━━━━━━━━━━━━━━━━━━━\u001b[0m \u001b[32m44.4/44.4 kB\u001b[0m \u001b[31m3.3 MB/s\u001b[0m eta \u001b[36m0:00:00\u001b[0m\n",
            "\u001b[?25hDownloading nvidia_cublas_cu12-12.4.5.8-py3-none-manylinux2014_x86_64.whl (363.4 MB)\n",
            "\u001b[2K   \u001b[90m━━━━━━━━━━━━━━━━━━━━━━━━━━━━━━━━━━━━━━━━\u001b[0m \u001b[32m363.4/363.4 MB\u001b[0m \u001b[31m4.1 MB/s\u001b[0m eta \u001b[36m0:00:00\u001b[0m\n",
            "\u001b[?25hDownloading nvidia_cuda_cupti_cu12-12.4.127-py3-none-manylinux2014_x86_64.whl (13.8 MB)\n",
            "\u001b[2K   \u001b[90m━━━━━━━━━━━━━━━━━━━━━━━━━━━━━━━━━━━━━━━━\u001b[0m \u001b[32m13.8/13.8 MB\u001b[0m \u001b[31m98.9 MB/s\u001b[0m eta \u001b[36m0:00:00\u001b[0m\n",
            "\u001b[?25hDownloading nvidia_cuda_nvrtc_cu12-12.4.127-py3-none-manylinux2014_x86_64.whl (24.6 MB)\n",
            "\u001b[2K   \u001b[90m━━━━━━━━━━━━━━━━━━━━━━━━━━━━━━━━━━━━━━━━\u001b[0m \u001b[32m24.6/24.6 MB\u001b[0m \u001b[31m82.9 MB/s\u001b[0m eta \u001b[36m0:00:00\u001b[0m\n",
            "\u001b[?25hDownloading nvidia_cuda_runtime_cu12-12.4.127-py3-none-manylinux2014_x86_64.whl (883 kB)\n",
            "\u001b[2K   \u001b[90m━━━━━━━━━━━━━━━━━━━━━━━━━━━━━━━━━━━━━━━━\u001b[0m \u001b[32m883.7/883.7 kB\u001b[0m \u001b[31m39.4 MB/s\u001b[0m eta \u001b[36m0:00:00\u001b[0m\n",
            "\u001b[?25hDownloading nvidia_cudnn_cu12-9.1.0.70-py3-none-manylinux2014_x86_64.whl (664.8 MB)\n",
            "\u001b[2K   \u001b[90m━━━━━━━━━━━━━━━━━━━━━━━━━━━━━━━━━━━━━━━━\u001b[0m \u001b[32m664.8/664.8 MB\u001b[0m \u001b[31m2.7 MB/s\u001b[0m eta \u001b[36m0:00:00\u001b[0m\n",
            "\u001b[?25hDownloading nvidia_cufft_cu12-11.2.1.3-py3-none-manylinux2014_x86_64.whl (211.5 MB)\n",
            "\u001b[2K   \u001b[90m━━━━━━━━━━━━━━━━━━━━━━━━━━━━━━━━━━━━━━━━\u001b[0m \u001b[32m211.5/211.5 MB\u001b[0m \u001b[31m5.6 MB/s\u001b[0m eta \u001b[36m0:00:00\u001b[0m\n",
            "\u001b[?25hDownloading nvidia_curand_cu12-10.3.5.147-py3-none-manylinux2014_x86_64.whl (56.3 MB)\n",
            "\u001b[2K   \u001b[90m━━━━━━━━━━━━━━━━━━━━━━━━━━━━━━━━━━━━━━━━\u001b[0m \u001b[32m56.3/56.3 MB\u001b[0m \u001b[31m12.7 MB/s\u001b[0m eta \u001b[36m0:00:00\u001b[0m\n",
            "\u001b[?25hDownloading nvidia_cusolver_cu12-11.6.1.9-py3-none-manylinux2014_x86_64.whl (127.9 MB)\n",
            "\u001b[2K   \u001b[90m━━━━━━━━━━━━━━━━━━━━━━━━━━━━━━━━━━━━━━━━\u001b[0m \u001b[32m127.9/127.9 MB\u001b[0m \u001b[31m7.4 MB/s\u001b[0m eta \u001b[36m0:00:00\u001b[0m\n",
            "\u001b[?25hDownloading nvidia_cusparse_cu12-12.3.1.170-py3-none-manylinux2014_x86_64.whl (207.5 MB)\n",
            "\u001b[2K   \u001b[90m━━━━━━━━━━━━━━━━━━━━━━━━━━━━━━━━━━━━━━━━\u001b[0m \u001b[32m207.5/207.5 MB\u001b[0m \u001b[31m5.9 MB/s\u001b[0m eta \u001b[36m0:00:00\u001b[0m\n",
            "\u001b[?25hDownloading nvidia_nvjitlink_cu12-12.4.127-py3-none-manylinux2014_x86_64.whl (21.1 MB)\n",
            "\u001b[2K   \u001b[90m━━━━━━━━━━━━━━━━━━━━━━━━━━━━━━━━━━━━━━━━\u001b[0m \u001b[32m21.1/21.1 MB\u001b[0m \u001b[31m87.6 MB/s\u001b[0m eta \u001b[36m0:00:00\u001b[0m\n",
            "\u001b[?25hDownloading marshmallow-3.26.1-py3-none-any.whl (50 kB)\n",
            "\u001b[2K   \u001b[90m━━━━━━━━━━━━━━━━━━━━━━━━━━━━━━━━━━━━━━━━\u001b[0m \u001b[32m50.9/50.9 kB\u001b[0m \u001b[31m4.2 MB/s\u001b[0m eta \u001b[36m0:00:00\u001b[0m\n",
            "\u001b[?25hDownloading python_dotenv-1.1.0-py3-none-any.whl (20 kB)\n",
            "Downloading typing_inspect-0.9.0-py3-none-any.whl (8.8 kB)\n",
            "Downloading mypy_extensions-1.1.0-py3-none-any.whl (5.0 kB)\n",
            "Installing collected packages: python-dotenv, nvidia-nvjitlink-cu12, nvidia-curand-cu12, nvidia-cufft-cu12, nvidia-cuda-runtime-cu12, nvidia-cuda-nvrtc-cu12, nvidia-cuda-cupti-cu12, nvidia-cublas-cu12, mypy-extensions, marshmallow, httpx-sse, typing-inspect, nvidia-cusparse-cu12, nvidia-cudnn-cu12, pydantic-settings, openai, nvidia-cusolver-cu12, dataclasses-json, langchain-community\n",
            "  Attempting uninstall: nvidia-nvjitlink-cu12\n",
            "    Found existing installation: nvidia-nvjitlink-cu12 12.5.82\n",
            "    Uninstalling nvidia-nvjitlink-cu12-12.5.82:\n",
            "      Successfully uninstalled nvidia-nvjitlink-cu12-12.5.82\n",
            "  Attempting uninstall: nvidia-curand-cu12\n",
            "    Found existing installation: nvidia-curand-cu12 10.3.6.82\n",
            "    Uninstalling nvidia-curand-cu12-10.3.6.82:\n",
            "      Successfully uninstalled nvidia-curand-cu12-10.3.6.82\n",
            "  Attempting uninstall: nvidia-cufft-cu12\n",
            "    Found existing installation: nvidia-cufft-cu12 11.2.3.61\n",
            "    Uninstalling nvidia-cufft-cu12-11.2.3.61:\n",
            "      Successfully uninstalled nvidia-cufft-cu12-11.2.3.61\n",
            "  Attempting uninstall: nvidia-cuda-runtime-cu12\n",
            "    Found existing installation: nvidia-cuda-runtime-cu12 12.5.82\n",
            "    Uninstalling nvidia-cuda-runtime-cu12-12.5.82:\n",
            "      Successfully uninstalled nvidia-cuda-runtime-cu12-12.5.82\n",
            "  Attempting uninstall: nvidia-cuda-nvrtc-cu12\n",
            "    Found existing installation: nvidia-cuda-nvrtc-cu12 12.5.82\n",
            "    Uninstalling nvidia-cuda-nvrtc-cu12-12.5.82:\n",
            "      Successfully uninstalled nvidia-cuda-nvrtc-cu12-12.5.82\n",
            "  Attempting uninstall: nvidia-cuda-cupti-cu12\n",
            "    Found existing installation: nvidia-cuda-cupti-cu12 12.5.82\n",
            "    Uninstalling nvidia-cuda-cupti-cu12-12.5.82:\n",
            "      Successfully uninstalled nvidia-cuda-cupti-cu12-12.5.82\n",
            "  Attempting uninstall: nvidia-cublas-cu12\n",
            "    Found existing installation: nvidia-cublas-cu12 12.5.3.2\n",
            "    Uninstalling nvidia-cublas-cu12-12.5.3.2:\n",
            "      Successfully uninstalled nvidia-cublas-cu12-12.5.3.2\n",
            "  Attempting uninstall: nvidia-cusparse-cu12\n",
            "    Found existing installation: nvidia-cusparse-cu12 12.5.1.3\n",
            "    Uninstalling nvidia-cusparse-cu12-12.5.1.3:\n",
            "      Successfully uninstalled nvidia-cusparse-cu12-12.5.1.3\n",
            "  Attempting uninstall: nvidia-cudnn-cu12\n",
            "    Found existing installation: nvidia-cudnn-cu12 9.3.0.75\n",
            "    Uninstalling nvidia-cudnn-cu12-9.3.0.75:\n",
            "      Successfully uninstalled nvidia-cudnn-cu12-9.3.0.75\n",
            "  Attempting uninstall: openai\n",
            "    Found existing installation: openai 1.81.0\n",
            "    Uninstalling openai-1.81.0:\n",
            "      Successfully uninstalled openai-1.81.0\n",
            "  Attempting uninstall: nvidia-cusolver-cu12\n",
            "    Found existing installation: nvidia-cusolver-cu12 11.6.3.83\n",
            "    Uninstalling nvidia-cusolver-cu12-11.6.3.83:\n",
            "      Successfully uninstalled nvidia-cusolver-cu12-11.6.3.83\n",
            "Successfully installed dataclasses-json-0.6.7 httpx-sse-0.4.0 langchain-community-0.3.24 marshmallow-3.26.1 mypy-extensions-1.1.0 nvidia-cublas-cu12-12.4.5.8 nvidia-cuda-cupti-cu12-12.4.127 nvidia-cuda-nvrtc-cu12-12.4.127 nvidia-cuda-runtime-cu12-12.4.127 nvidia-cudnn-cu12-9.1.0.70 nvidia-cufft-cu12-11.2.1.3 nvidia-curand-cu12-10.3.5.147 nvidia-cusolver-cu12-11.6.1.9 nvidia-cusparse-cu12-12.3.1.170 nvidia-nvjitlink-cu12-12.4.127 openai-1.82.1 pydantic-settings-2.9.1 python-dotenv-1.1.0 typing-inspect-0.9.0\n"
          ]
        }
      ]
    },
    {
      "cell_type": "code",
      "source": [
        "import openai\n",
        "import gradio as gr\n",
        "import pandas as pd\n",
        "import numpy as np"
      ],
      "metadata": {
        "id": "w0iCp8rP3NVM"
      },
      "execution_count": null,
      "outputs": []
    },
    {
      "cell_type": "markdown",
      "source": [
        "## Step 2:  TDEE 計算與營養分析"
      ],
      "metadata": {
        "id": "0a62nb4t5p54"
      }
    },
    {
      "cell_type": "code",
      "source": [
        "def calculate_tdee_verbose(sex, age, weight, height, activity_level, goal):\n",
        "    # 1. 計算 BMR（基礎代謝率）\n",
        "    if sex == \"男性\":\n",
        "        bmr = 10 * weight + 6.25 * height - 5 * age + 5\n",
        "    else:\n",
        "        bmr = 10 * weight + 6.25 * height - 5 * age - 161\n",
        "\n",
        "    # 2. 活動係數\n",
        "    activity_factors = {\n",
        "        \"久坐（幾乎不運動）\": 1.2,\n",
        "        \"輕度活動（每週1-3天）\": 1.375,\n",
        "        \"中度活動（每週3-5天）\": 1.55,\n",
        "        \"高強度活動（每週6-7天）\": 1.725,\n",
        "        \"非常高（每日訓練、勞力工作）\": 1.9,\n",
        "    }\n",
        "    activity_factor = activity_factors[activity_level]\n",
        "    tdee = bmr * activity_factor\n",
        "\n",
        "    # 3. 根據目標調整 TDEE\n",
        "    if goal == \"減脂\":\n",
        "        adjusted_tdee = tdee * 0.85\n",
        "    elif goal == \"增肌\":\n",
        "        adjusted_tdee = tdee * 1.15\n",
        "    else:\n",
        "        adjusted_tdee = tdee\n",
        "\n",
        "    # 4. 計算營養素比例\n",
        "    if goal == \"增肌\":\n",
        "        ratio = {\"蛋白質\": 0.30, \"碳水化合物\": 0.45, \"脂肪\": 0.25}\n",
        "    elif goal == \"減脂\":\n",
        "        ratio = {\"蛋白質\": 0.35, \"碳水化合物\": 0.35, \"脂肪\": 0.30}\n",
        "    else:\n",
        "        ratio = {\"蛋白質\": 0.25, \"碳水化合物\": 0.50, \"脂肪\": 0.25}\n",
        "\n",
        "    protein = (adjusted_tdee * ratio[\"蛋白質\"]) / 4\n",
        "    carbs = (adjusted_tdee * ratio[\"碳水化合物\"]) / 4\n",
        "    fat = (adjusted_tdee * ratio[\"脂肪\"]) / 9\n",
        "\n",
        "    # 格式化輸出\n",
        "    output = f\"\"\"\n",
        "🔍 你的健康分析結果：\n",
        "\n",
        "📌 BMR（基礎代謝率）：{int(bmr)} kcal/day\n",
        "🏃 TDEE（總每日能量消耗）：{int(tdee)} kcal\n",
        "🎯 根據目標調整後建議攝取熱量：{int(adjusted_tdee)} kcal\n",
        "\n",
        "📊 建議三大營養素攝取量：\n",
        "🍗 蛋白質：{int(protein)} 克\n",
        "🍚 碳水化合物：{int(carbs)} 克\n",
        "🥑 脂肪：{int(fat)} 克\n",
        "\"\"\"\n",
        "    return output, {\n",
        "        \"protein\": int(protein),\n",
        "        \"carbs\": int(carbs),\n",
        "        \"fat\": int(fat)\n",
        "    }\n"
      ],
      "metadata": {
        "id": "xXUC5Hc23j1c"
      },
      "execution_count": null,
      "outputs": []
    },
    {
      "cell_type": "markdown",
      "source": [
        "## Step 3: 準備營養知識資料庫\n",
        "\n",
        "\n",
        "> 手動整理知識資料庫，參考來源為 [衛生福利部國民健康署](https://www.hpa.gov.tw/Pages/List.aspx?nodeid=36)\n",
        "\n",
        "\n",
        "> 餐食建議參考 ChatGPT 所整理的菜單來進行調整\n",
        "\n",
        "\n",
        "\n"
      ],
      "metadata": {
        "id": "aOrTr7Op74Ta"
      }
    },
    {
      "cell_type": "code",
      "source": [
        "# prompt: 用 Linux 指令，讀入一個在網路上，網址是 URL 的檔案。\n",
        "\n",
        "URL = \"https://drive.google.com/uc?export=download&id=1wpbUpetvpyWxicTKArvQXkFvShT6ewry\"\n",
        "\n",
        "!wget -O healthymeal_faiss_db.zip \"$URL\"\n"
      ],
      "metadata": {
        "colab": {
          "base_uri": "https://localhost:8080/"
        },
        "id": "o7g0wChcoN09",
        "outputId": "3c9946f9-bf99-4895-9f8e-13c0eb9962b8"
      },
      "execution_count": null,
      "outputs": [
        {
          "output_type": "stream",
          "name": "stdout",
          "text": [
            "--2025-05-31 08:46:43--  https://drive.google.com/uc?export=download&id=1wpbUpetvpyWxicTKArvQXkFvShT6ewry\n",
            "Resolving drive.google.com (drive.google.com)... 64.233.179.113, 64.233.179.102, 64.233.179.101, ...\n",
            "Connecting to drive.google.com (drive.google.com)|64.233.179.113|:443... connected.\n",
            "HTTP request sent, awaiting response... 303 See Other\n",
            "Location: https://drive.usercontent.google.com/download?id=1wpbUpetvpyWxicTKArvQXkFvShT6ewry&export=download [following]\n",
            "--2025-05-31 08:46:43--  https://drive.usercontent.google.com/download?id=1wpbUpetvpyWxicTKArvQXkFvShT6ewry&export=download\n",
            "Resolving drive.usercontent.google.com (drive.usercontent.google.com)... 209.85.145.132, 2607:f8b0:4001:c1e::84\n",
            "Connecting to drive.usercontent.google.com (drive.usercontent.google.com)|209.85.145.132|:443... connected.\n",
            "HTTP request sent, awaiting response... 200 OK\n",
            "Length: 38242 (37K) [application/octet-stream]\n",
            "Saving to: ‘healthymeal_faiss_db.zip’\n",
            "\n",
            "healthymeal_faiss_d 100%[===================>]  37.35K  --.-KB/s    in 0s      \n",
            "\n",
            "2025-05-31 08:46:46 (122 MB/s) - ‘healthymeal_faiss_db.zip’ saved [38242/38242]\n",
            "\n"
          ]
        }
      ]
    },
    {
      "cell_type": "code",
      "source": [
        "!unzip healthymeal_faiss_db.zip"
      ],
      "metadata": {
        "colab": {
          "base_uri": "https://localhost:8080/"
        },
        "id": "rhPQD5g0_l5Z",
        "outputId": "8680f371-e9b0-451d-d8cc-012f391797dc"
      },
      "execution_count": null,
      "outputs": [
        {
          "output_type": "stream",
          "name": "stdout",
          "text": [
            "Archive:  healthymeal_faiss_db.zip\n",
            "replace healthymeal_faiss_db/index.faiss? [y]es, [n]o, [A]ll, [N]one, [r]ename: y\n",
            "  inflating: healthymeal_faiss_db/index.faiss  \n",
            "replace healthymeal_faiss_db/index.pkl? [y]es, [n]o, [A]ll, [N]one, [r]ename: y\n",
            "  inflating: healthymeal_faiss_db/index.pkl  \n"
          ]
        }
      ]
    },
    {
      "cell_type": "code",
      "source": [
        "from langchain_community.vectorstores import FAISS\n",
        "from langchain_community.embeddings import HuggingFaceEmbeddings\n",
        "from langchain.chat_models import ChatOpenAI\n",
        "from langchain.chains import ConversationalRetrievalChain"
      ],
      "metadata": {
        "id": "L1zqb7F8BMP3"
      },
      "execution_count": null,
      "outputs": []
    },
    {
      "cell_type": "code",
      "source": [
        "class CustomE5Embedding(HuggingFaceEmbeddings):\n",
        "    def embed_documents(self, texts):\n",
        "        texts = [f\"passage: {t}\" for t in texts]\n",
        "        return super().embed_documents(texts)\n",
        "\n",
        "    def embed_query(self, text):\n",
        "        return super().embed_query(f\"query: {text}\")"
      ],
      "metadata": {
        "id": "HkmvGTaECfTY"
      },
      "execution_count": null,
      "outputs": []
    },
    {
      "cell_type": "code",
      "source": [
        "embedding_model = CustomE5Embedding(model_name=\"intfloat/multilingual-e5-small\")\n",
        "db = FAISS.load_local(\"healthymeal_faiss_db\", embedding_model, allow_dangerous_deserialization=True)\n",
        "retriever = db.as_retriever()"
      ],
      "metadata": {
        "id": "LkELACdWCtpo"
      },
      "execution_count": null,
      "outputs": []
    },
    {
      "cell_type": "markdown",
      "source": [
        "## Step 4: 建立 LLM\n",
        "\n"
      ],
      "metadata": {
        "id": "DW1W0N_EKW11"
      }
    },
    {
      "cell_type": "code",
      "source": [
        "import os\n",
        "from google.colab import userdata\n",
        "\n",
        "api_key = userdata.get('Groq')\n",
        "os.environ[\"OPENAI_API_KEY\"] = api_key\n",
        "\n",
        "model = \"llama3-70b-8192\"\n",
        "base_url=\"https://api.groq.com/openai/v1\"\n",
        "\n",
        "client = OpenAI(\n",
        "    base_url=base_url # 使用 OpenAI 本身不需要這段\n",
        ")"
      ],
      "metadata": {
        "id": "q9INo902Ajqp"
      },
      "execution_count": null,
      "outputs": []
    },
    {
      "cell_type": "code",
      "source": [
        "system_prompt = '''\n",
        "你是一位專業且知名的健康私廚，同時熟悉營養學與六大類食物原則。你的任務是根據使用者的健康目標與建議營養攝取（蛋白質、碳水化合物、脂肪）推薦具體的健康餐點組合。\n",
        "\n",
        "你的推薦須符合以下原則：\n",
        "1. 餐點必須符合使用者的營養建議攝取量（允許誤差 ±10%）。\n",
        "2. 若有飲食風格（如：素食、生酮、地中海）、過敏或疾病限制，請一併考量。\n",
        "3. 請使用六大類食物與知識庫資料，組合出合理菜單（含食材、製作方式、營養含量）。\n",
        "4. 若有需要，請提供替代食材（例如：乳糖不耐 → 換豆漿），並註明總熱量與 GI 值。\n",
        "\n",
        "請用台灣習慣的繁體中文回應，並避免提供任何非飲食相關建議。\n",
        "如果是其他語言，請翻譯成繁體中文。\n",
        "'''\n",
        "\n",
        "prompt_template = \"\"\"\n",
        "你已取得以下資料摘要供參考（包括食材特性、營養建議、疾病飲食注意事項與常見餐點組合）：\n",
        "\n",
        "{retrieved_chunks}\n",
        "\n",
        "使用者的問題是：{question}\n",
        "\n",
        "請綜合資料內容與使用者提供的營養建議值，推薦一份「符合健康目標的具體餐點」：\n",
        "- 餐點應包含食材名稱、製作方式、三大營養素含量（蛋白質、碳水、脂肪）、總熱量（kcal）、GI 值（如資料有）\n",
        "- 若食材有過敏或限制情況，請主動提出替代方案\n",
        "- 餐點建議以實際操作可行為主，避免過於理論或模糊描述\n",
        "- 若資料不足請明確說明「目前資料不足，敬請期待更新菜單」\n",
        "\n",
        "請用繁體中文回答。\n",
        "如果是其他語言，請翻譯成繁體中文。\n",
        "\"\"\"\n"
      ],
      "metadata": {
        "id": "ZaUnqDpfFop-"
      },
      "execution_count": null,
      "outputs": []
    },
    {
      "cell_type": "code",
      "source": [
        "chat_history = []\n",
        "\n",
        "def chat_with_rag(user_input, nutrient_targets=None):\n",
        "\n",
        "    # RAG：檢索食材特性與健康建議\n",
        "    docs = retriever.get_relevant_documents(user_input)\n",
        "    retrieved_chunks = \"\\n\\n\".join([doc.page_content for doc in docs])\n",
        "\n",
        "    # 如果提供營養目標值 → 融入 prompt 中產生個性化菜單\n",
        "    if nutrient_targets:\n",
        "        user_input += f\"\\n請依據以下建議值推薦菜單：蛋白質{nutrient_targets['protein']}g、碳水{nutrient_targets['carbs']}g、脂肪{nutrient_targets['fat']}g\"\n",
        "\n",
        "\n",
        "    final_prompt = prompt_template.format(retrieved_chunks=retrieved_chunks, question=user_input)\n",
        "\n",
        "    response = client.chat.completions.create(\n",
        "        model=model,\n",
        "        messages=[\n",
        "            {\"role\": \"system\", \"content\": system_prompt},\n",
        "            {\"role\": \"user\", \"content\": final_prompt},\n",
        "        ]\n",
        "    )\n",
        "    return response.choices[0].message.content\n"
      ],
      "metadata": {
        "id": "1yvcb_hlNLqU"
      },
      "execution_count": null,
      "outputs": []
    },
    {
      "cell_type": "code",
      "source": [
        "# 自訂 CSS\n",
        "\n",
        "custom_css = \"\"\"\n",
        "\n",
        "/* === 整體背景與版面 === */\n",
        "body, html {\n",
        "    background-color: #f6f9fc !important;\n",
        "    margin: 0;\n",
        "    padding: 0;\n",
        "    font-family: \"Segoe UI\", \"Helvetica Neue\", sans-serif;\n",
        "}\n",
        "\n",
        ".gradio-container {\n",
        "    background-color: #f6f9fc !important;\n",
        "    box-shadow: none !important;\n",
        "}\n",
        "\n",
        "/* === 標題與段落 === */\n",
        "h1 {\n",
        "    font-size: 36px;\n",
        "    font-weight: bold;\n",
        "    color: #1a2b4c;\n",
        "    text-align: center;\n",
        "    margin-top: 20px;\n",
        "}\n",
        "\n",
        "p {\n",
        "    font-size: 18px;\n",
        "    color: #444;\n",
        "    line-height: 1.6;\n",
        "    text-align: left;\n",
        "    margin: 10px 0;\n",
        "}\n",
        "\n",
        "/* === 文字輸入與區塊 === */\n",
        "input, textarea, .gr-textbox {\n",
        "    background-color: #ffffff;\n",
        "    color: #333333;\n",
        "    border: 1px solid #ccd6dd;\n",
        "    border-radius: 8px;\n",
        "    padding: 10px;\n",
        "    font-size: 16px;\n",
        "}\n",
        "\n",
        "/* === 按鈕樣式 === */\n",
        "button {\n",
        "    background-color: #1a73e8;\n",
        "    color: white;\n",
        "    font-weight: bold;\n",
        "    border-radius: 6px;\n",
        "    padding: 10px 20px;\n",
        "    border: none;\n",
        "    transition: background-color 0.2s ease-in-out;\n",
        "}\n",
        "\n",
        "button:hover {\n",
        "    background-color: #0c56d0;\n",
        "}\n",
        "\n",
        "/* === Chatbot 對話氣泡 === */\n",
        ".gr-chatbot .message {\n",
        "    border-radius: 8px;\n",
        "    padding: 12px;\n",
        "    margin: 6px 0;\n",
        "    white-space: pre-wrap;\n",
        "    text-align: left;\n",
        "    font-size: 16px;\n",
        "    line-height: 1.6;\n",
        "}\n",
        "\n",
        ".gr-chatbot .message.user {\n",
        "    background-color: #e3f2fd !important;\n",
        "    color: #1a2b4c !important;\n",
        "    border-left: 4px solid #1a73e8;\n",
        "}\n",
        "\n",
        ".gr-chatbot .message.assistant {\n",
        "    background-color: #ffffff !important;\n",
        "    color: #333333 !important;\n",
        "    border-left: 4px solid #4caf50;\n",
        "}\n",
        "\n",
        "\"\"\""
      ],
      "metadata": {
        "id": "2P1ypmCyODyw"
      },
      "execution_count": null,
      "outputs": []
    },
    {
      "cell_type": "code",
      "source": [
        "with gr.Blocks(css=custom_css) as demo:\n",
        "    gr.Markdown(\"# 🥗 你的專屬健康飲食顧問 👨‍🍳️💡\")\n",
        "\n",
        "    with gr.Row():\n",
        "        with gr.Column(scale=1):\n",
        "            sex = gr.Dropdown([\"男性\", \"女性\"], label=\"性別\")\n",
        "            age = gr.Slider(10, 80, value=25, label=\"年齡\")\n",
        "            weight = gr.Slider(30, 150, value=60, label=\"體重（kg）\")\n",
        "            height = gr.Slider(130, 210, value=170, label=\"身高（cm）\")\n",
        "            activity = gr.Dropdown([\n",
        "                \"久坐（幾乎不運動）\", \"輕度活動（每週1-3天）\", \"中度活動（每週3-5天）\",\n",
        "                \"高強度活動（每週6-7天）\", \"非常高（每日訓練、勞力工作）\"], label=\"活動量\")\n",
        "            goal = gr.Dropdown([\"減脂\", \"增肌\", \"維持\", \"控糖\"], label=\"健康目標\")\n",
        "            btn = gr.Button(\"📈 計算熱量與營養建議\")\n",
        "\n",
        "        with gr.Column(scale=2):\n",
        "            tdee_output = gr.Textbox(lines=8, label=\"📋 TDEE 與營養建議\")\n",
        "            recommend_output = gr.Textbox(lines=18, label=\"🥗 三餐健康餐點推薦\")\n",
        "\n",
        "    def recommend_from_tdee(sex, age, weight, height, activity, goal):\n",
        "        try:\n",
        "            result_text, nutrient_targets = calculate_tdee_verbose(\n",
        "                sex, age, weight, height, activity, goal\n",
        "            )\n",
        "            breakfast = chat_with_rag(\"請依據上述營養素建議提供一份健康早餐\", nutrient_targets)\n",
        "            lunch = chat_with_rag(\"請依據上述營養素建議提供一份健康中餐\", nutrient_targets)\n",
        "            dinner = chat_with_rag(\"請依據上述營養素建議提供一份健康晚餐\", nutrient_targets)\n",
        "\n",
        "            full_recommendation = f\"\"\"\\n🍽 **健康三餐建議**\\n\\n🥣 **早餐**：\\n{breakfast}\\n\\n🍱 **午餐**：\\n{lunch}\\n\\n🍛 **晚餐**：\\n{dinner}\"\"\"\n",
        "            return result_text, full_recommendation\n",
        "        except Exception as e:\n",
        "            return f\"⚠️ 錯誤：{e}\", \"❌ 無法產生推薦餐點，請稍後再試或檢查輸入。\"\n",
        "\n",
        "    btn.click(\n",
        "        fn=recommend_from_tdee,\n",
        "        inputs=[sex, age, weight, height, activity, goal],\n",
        "        outputs=[tdee_output, recommend_output]\n",
        "    )\n",
        "\n",
        "    gr.Markdown(\"---\")\n",
        "    gr.Markdown(\"## 🤖 營養助理互動區（可問任何問題）\")\n",
        "\n",
        "    chatbot = gr.Chatbot(label=\"飲食助理\", type=\"messages\")\n",
        "    msg = gr.Textbox(placeholder=\"請輸入你的飲食問題...\", show_label=False)\n",
        "\n",
        "    def respond(message, chat_history_local):\n",
        "        try:\n",
        "            response = chat_with_rag(message)\n",
        "            chat_history_local.append({\"role\": \"user\", \"content\": message})\n",
        "            chat_history_local.append({\"role\": \"assistant\", \"content\": response})\n",
        "            return \"\", chat_history_local\n",
        "        except Exception as e:\n",
        "            error_msg = f\"❌ 錯誤：{str(e)}\"\n",
        "            chat_history_local.append({\"role\": \"user\", \"content\": message})\n",
        "            chat_history_local.append({\"role\": \"assistant\", \"content\": error_msg})\n",
        "            return \"\", chat_history_local\n",
        "\n",
        "    msg.submit(respond, [msg, chatbot], [msg, chatbot])\n"
      ],
      "metadata": {
        "id": "bunk3QvU88Kw"
      },
      "execution_count": null,
      "outputs": []
    },
    {
      "cell_type": "code",
      "source": [
        "demo.launch()"
      ],
      "metadata": {
        "id": "Tvhd9jYKFeGR",
        "colab": {
          "base_uri": "https://localhost:8080/",
          "height": 646
        },
        "outputId": "6d1a45f4-ae79-4533-918c-5a1abf39207a"
      },
      "execution_count": null,
      "outputs": [
        {
          "output_type": "stream",
          "name": "stdout",
          "text": [
            "It looks like you are running Gradio on a hosted a Jupyter notebook. For the Gradio app to work, sharing must be enabled. Automatically setting `share=True` (you can turn this off by setting `share=False` in `launch()` explicitly).\n",
            "\n",
            "Colab notebook detected. To show errors in colab notebook, set debug=True in launch()\n",
            "* Running on public URL: https://36453cbd54e86efe60.gradio.live\n",
            "\n",
            "This share link expires in 1 week. For free permanent hosting and GPU upgrades, run `gradio deploy` from the terminal in the working directory to deploy to Hugging Face Spaces (https://huggingface.co/spaces)\n"
          ]
        },
        {
          "output_type": "display_data",
          "data": {
            "text/plain": [
              "<IPython.core.display.HTML object>"
            ],
            "text/html": [
              "<div><iframe src=\"https://36453cbd54e86efe60.gradio.live\" width=\"100%\" height=\"500\" allow=\"autoplay; camera; microphone; clipboard-read; clipboard-write;\" frameborder=\"0\" allowfullscreen></iframe></div>"
            ]
          },
          "metadata": {}
        },
        {
          "output_type": "execute_result",
          "data": {
            "text/plain": []
          },
          "metadata": {},
          "execution_count": 155
        }
      ]
    },
    {
      "cell_type": "code",
      "source": [],
      "metadata": {
        "id": "JmVFLp12PofE"
      },
      "execution_count": null,
      "outputs": []
    }
  ]
}