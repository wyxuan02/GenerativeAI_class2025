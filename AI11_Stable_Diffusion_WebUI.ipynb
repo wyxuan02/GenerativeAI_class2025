{
  "cells": [
    {
      "cell_type": "markdown",
      "metadata": {
        "id": "view-in-github",
        "colab_type": "text"
      },
      "source": [
        "<a href=\"https://colab.research.google.com/github/wyxuan02/GenerativeAI_class2025/blob/main/AI11_Stable_Diffusion_WebUI.ipynb\" target=\"_parent\"><img src=\"https://colab.research.google.com/assets/colab-badge.svg\" alt=\"Open In Colab\"/></a>"
      ]
    },
    {
      "cell_type": "markdown",
      "metadata": {
        "id": "uEyJtWJaDkRf"
      },
      "source": [
        "課程範例：https://github.com/yenlung/AI-Demo/blob/master/%E3%80%90Demo08g%E3%80%91%E6%89%93%E9%80%A0Stable_Diffusion%E7%9A%84WebUI.ipynb"
      ]
    },
    {
      "cell_type": "markdown",
      "metadata": {
        "id": "gLEQCNfkBxm6"
      },
      "source": [
        "# 📚 打造 Stable Diffusion 的 WebUI\n",
        "\n",
        "### 1. 安裝必要套件"
      ]
    },
    {
      "cell_type": "code",
      "execution_count": null,
      "metadata": {
        "id": "50QsZ9LcBw5Y"
      },
      "outputs": [],
      "source": [
        "!pip install diffusers transformers accelerate safetensors huggingface_hub gradio --upgrade"
      ]
    },
    {
      "cell_type": "code",
      "execution_count": null,
      "metadata": {
        "id": "e3YMEdSZB98I"
      },
      "outputs": [],
      "source": [
        "# from google.colab import userdata\n",
        "\n",
        "# hf_token = userdata.get(\"HuggingFace\")\n",
        "# login(token=hf_token)"
      ]
    },
    {
      "cell_type": "code",
      "execution_count": null,
      "metadata": {
        "id": "AxCcNOPBCmf2"
      },
      "outputs": [],
      "source": [
        "from diffusers import StableDiffusionPipeline, UniPCMultistepScheduler\n",
        "import torch\n",
        "import gc\n",
        "import matplotlib.pyplot as plt\n",
        "import gradio as gr\n",
        "import random"
      ]
    },
    {
      "cell_type": "code",
      "execution_count": null,
      "metadata": {
        "id": "Lx735N8uNQ9o"
      },
      "outputs": [],
      "source": [
        "#!rm -rf /content/*\n",
        "!rm -rf /root/.cache/huggingface"
      ]
    },
    {
      "cell_type": "markdown",
      "metadata": {
        "id": "8NhvpxxqCqps"
      },
      "source": [
        "### 2. 指定並讀入模型"
      ]
    },
    {
      "cell_type": "code",
      "execution_count": null,
      "metadata": {
        "id": "yy2-xjIyCpbI"
      },
      "outputs": [],
      "source": [
        "model_name = \"runwayml/stable-diffusion-v1-5\""
      ]
    },
    {
      "cell_type": "markdown",
      "metadata": {
        "id": "cfsSUkxlUpsi"
      },
      "source": [
        "注意有可能要停用 `use_safetensors=True`。"
      ]
    },
    {
      "cell_type": "code",
      "execution_count": null,
      "metadata": {
        "id": "c4fEdszfCyO7"
      },
      "outputs": [],
      "source": [
        "pipe = StableDiffusionPipeline.from_pretrained(\n",
        "    model_name,\n",
        "    torch_dtype=torch.float16,\n",
        "    use_safetensors=True\n",
        ").to(\"cuda\")"
      ]
    },
    {
      "cell_type": "code",
      "execution_count": null,
      "metadata": {
        "id": "rzzFo2qCC56V"
      },
      "outputs": [],
      "source": [
        "pipe.scheduler = UniPCMultistepScheduler.from_config(pipe.scheduler.config)"
      ]
    },
    {
      "cell_type": "markdown",
      "metadata": {
        "id": "X4ZAPdMsC_Dq"
      },
      "source": [
        "### 3. 生成的函式"
      ]
    },
    {
      "cell_type": "code",
      "execution_count": null,
      "metadata": {
        "id": "mpPjwVKbDEKe"
      },
      "outputs": [],
      "source": [
        "def generate_images(prompt, use_enhance, enhance_text, use_negative, negative_text,\n",
        "                    use_custom_seed, custom_seed, height, width, steps, num_images):\n",
        "\n",
        "    height = int(height)\n",
        "    width = int(width)\n",
        "\n",
        "    if height % 8 != 0 or width % 8 != 0:\n",
        "        raise ValueError(\"高度和寬度必須是8的倍數！\")\n",
        "\n",
        "    if use_custom_seed:\n",
        "        base_seed = int(custom_seed)\n",
        "    else:\n",
        "        base_seed = random.randint(0, 2**32 - 1)\n",
        "\n",
        "    seeds = [base_seed + i for i in range(num_images)]\n",
        "\n",
        "    prompts = []\n",
        "    negative_prompts = []\n",
        "    generators = []\n",
        "\n",
        "    final_prompt = prompt\n",
        "    if use_enhance and enhance_text:\n",
        "        final_prompt = prompt + \", \" + enhance_text\n",
        "\n",
        "    final_negative = negative_text if use_negative else \"\" # None 修改成 \"\"\"\n",
        "\n",
        "    for seed in seeds:\n",
        "        g = torch.Generator(\"cuda\").manual_seed(seed)\n",
        "        generators.append(g)\n",
        "        prompts.append(final_prompt)\n",
        "        negative_prompts.append(final_negative)\n",
        "\n",
        "    gc.collect()\n",
        "    torch.cuda.empty_cache()\n",
        "\n",
        "    images = []\n",
        "    for i in range(num_images):\n",
        "        with torch.no_grad():\n",
        "            image = pipe(\n",
        "                prompt=prompts[i],\n",
        "                negative_prompt=negative_prompts[i],  #if final_negative else None,\n",
        "                height=height,\n",
        "                width=width,\n",
        "                num_inference_steps=steps,\n",
        "                guidance_scale=7.5,\n",
        "                generator=generators[i]\n",
        "            ).images[0]\n",
        "            images.append(image)\n",
        "\n",
        "\n",
        "    return images, f\"使用的 random seeds: {seeds}\""
      ]
    },
    {
      "cell_type": "markdown",
      "metadata": {
        "id": "eKiTPYpWDVln"
      },
      "source": [
        "### 4. 打造 Gradio Web App"
      ]
    },
    {
      "cell_type": "code",
      "execution_count": null,
      "metadata": {
        "id": "2uJnUGTXDOCN"
      },
      "outputs": [],
      "source": [
        "default_enhance = \"masterpiece, ultra high quality, intricate skin details, cinematic lighting\"\n",
        "default_negative = \"bad anatomy, blurry, disfigured, poorly drawn hands, extra fingers, mutated hands, low quality, worst quality\"\n",
        "\n",
        "with gr.Blocks(css=\"\"\"\n",
        ".gradio-container {background-color: #FFFDF7; padding: 40px; font-family: 'Noto Sans TC', 'Microsoft JhengHei', sans-serif;}\n",
        ".gr-button {font-size: 18px; background: linear-gradient(to right, #4A90E2, #9013FE); color: white; border-radius: 8px; padding: 12px 24px;}\n",
        ".gr-textbox textarea {font-size: 16px; line-height: 1.6; color: #333; background-color: #F8F8F8; border-radius: 6px;}\n",
        ".gr-dropdown select, .gr-number input, .gr-checkbox label {font-size: 15px;}\n",
        ".gr-gallery {border: 1px solid #DDD; border-radius: 10px; padding: 10px; background-color: #FFF;}\n",
        "\"\"\") as demo:\n",
        "    gr.Markdown(\"\"\"\n",
        "    # 🎨 互動圖像生成器\n",
        "    歡迎使用！輸入提示詞、選擇設定，立即生成你的寫實風格作品！\n",
        "    \"\"\")\n",
        "\n",
        "    with gr.Row():\n",
        "        with gr.Column(scale=6):\n",
        "            prompt = gr.Textbox(label=\"Prompt\", placeholder=\"請輸入你的提示詞 (prompt)\", lines=3)\n",
        "            with gr.Row():\n",
        "                use_enhance = gr.Checkbox(label=\"加強 Prompt\", value=True)\n",
        "                enhance_text = gr.Textbox(label=\"加強內容\", value=default_enhance)\n",
        "            with gr.Row():\n",
        "                use_negative = gr.Checkbox(label=\"使用 Negative Prompt\", value=True)\n",
        "                negative_text = gr.Textbox(label=\"Negative Prompt 內容\", value=default_negative)\n",
        "            with gr.Row():\n",
        "                use_custom_seed = gr.Checkbox(label=\"自訂 Random Seed\", value=False)\n",
        "                custom_seed = gr.Number(label=\"指定 seed (選填)\", value=42)\n",
        "            with gr.Row():\n",
        "                height = gr.Dropdown([\"512\", \"768\", \"1024\"], label=\"高度 Height\", value=\"512\")\n",
        "                width = gr.Dropdown([\"512\", \"768\", \"1024\"], label=\"寬度 Width\", value=\"512\")\n",
        "            with gr.Row():\n",
        "                steps = gr.Slider(10, 50, value=20, step=5, label=\"生成步數 (Steps)\")\n",
        "                num_images = gr.Slider(1, 4, step=1, value=1, label=\"生成張數\")\n",
        "            generate_btn = gr.Button(\"🚀 開始生成！\")\n",
        "\n",
        "        with gr.Column(scale=6):\n",
        "            gallery = gr.Gallery(label=\"生成結果\", columns=2, object_fit=\"contain\", height=\"auto\")\n",
        "            seed_info = gr.Label(label=\"使用的 Random Seeds\")\n",
        "\n",
        "    generate_btn.click(\n",
        "        fn=generate_images,\n",
        "        inputs=[prompt, use_enhance, enhance_text, use_negative, negative_text,\n",
        "                use_custom_seed, custom_seed, height, width, steps, num_images],\n",
        "        outputs=[gallery, seed_info]\n",
        "    )"
      ]
    },
    {
      "cell_type": "code",
      "execution_count": null,
      "metadata": {
        "id": "IYR6wPYHDmkn"
      },
      "outputs": [],
      "source": [
        "demo.launch(share=True, debug=True)"
      ]
    },
    {
      "cell_type": "code",
      "execution_count": null,
      "metadata": {
        "id": "6RK8FA5X_iW8"
      },
      "outputs": [],
      "source": []
    },
    {
      "cell_type": "code",
      "execution_count": null,
      "metadata": {
        "id": "G0O9bqjED8wk"
      },
      "outputs": [],
      "source": [
        "from google.colab import drive\n",
        "drive.mount('/content/drive')"
      ]
    },
    {
      "cell_type": "code",
      "execution_count": 7,
      "metadata": {
        "colab": {
          "base_uri": "https://localhost:8080/"
        },
        "id": "dRL3INSsD-O7",
        "outputId": "640e065a-0b1d-4316-aee4-84fd66225f48"
      },
      "outputs": [
        {
          "output_type": "stream",
          "name": "stdout",
          "text": [
            "✅ 已移除 widgets metadata 與輸出，可以安全 push 到 GitHub！\n"
          ]
        }
      ],
      "source": [
        "import nbformat\n",
        "\n",
        "# 設定 notebook 檔案路徑（換成你找到的完整路徑）\n",
        "notebook_path = \"/content/drive/MyDrive/Colab Notebooks/AI11_Stable_Diffusion_WebUI.ipynb\"\n",
        "\n",
        "# 讀取 notebook\n",
        "with open(notebook_path, \"r\", encoding=\"utf-8\") as f:\n",
        "    nb = nbformat.read(f, as_version=4)\n",
        "\n",
        "# 移除所有輸出與 widgets metadata\n",
        "for cell in nb.cells:\n",
        "    if \"outputs\" in cell:\n",
        "        cell[\"outputs\"] = []\n",
        "    if \"execution_count\" in cell:\n",
        "        cell[\"execution_count\"] = None\n",
        "\n",
        "if \"widgets\" in nb.metadata:\n",
        "    del nb.metadata[\"widgets\"]\n",
        "\n",
        "# 儲存回 notebook\n",
        "with open(notebook_path, \"w\", encoding=\"utf-8\") as f:\n",
        "    nbformat.write(nb, f)\n",
        "\n",
        "print(\"✅ 已移除 widgets metadata 與輸出，可以安全 push 到 GitHub！\")"
      ]
    },
    {
      "cell_type": "code",
      "execution_count": null,
      "metadata": {
        "id": "Q9mzLmE-ERJm"
      },
      "outputs": [],
      "source": []
    }
  ],
  "metadata": {
    "accelerator": "GPU",
    "colab": {
      "gpuType": "T4",
      "provenance": [],
      "include_colab_link": true
    },
    "kernelspec": {
      "display_name": "Python 3",
      "name": "python3"
    },
    "language_info": {
      "name": "python"
    }
  },
  "nbformat": 4,
  "nbformat_minor": 0
}